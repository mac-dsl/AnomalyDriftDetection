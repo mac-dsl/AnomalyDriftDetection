{
 "cells": [
  {
   "cell_type": "code",
   "execution_count": null,
   "metadata": {},
   "outputs": [],
   "source": [
    "import numpy as np\n",
    "import math\n",
    "import matplotlib.pyplot as plt\n",
    "import pandas as pd\n",
    "from util.TSB_AD.slidingWindows import find_length #,plotFig, printResult\n",
    "from sklearn.preprocessing import MinMaxScaler\n",
    "import os\n",
    "import stumpy\n",
    "from util.TranAD_base import *\n",
    "# from util.util_normal import plotFigKL, find_length, getResult, plotFigBeta\n",
    "from util.util_overlap import *\n",
    "from util.load_data import get_data, list_chunk, add_drift\n",
    "\n",
    "from tqdm.notebook import tqdm"
   ]
  },
  {
   "cell_type": "markdown",
   "metadata": {},
   "source": [
    "### Options of load_data_path\n",
    "- filename: filepath+filename of .csv file\n",
    "- data_type: each option has limited coverage for next options (character, val, width) \n",
    "    - 'None': no drift\n",
    "    - 'abrupt': abrupt drift\n",
    "        - (character)\n",
    "            - 'mean': add 'val' to the sequences between {start-to-end} data (val=constant)\n",
    "            - 'mean_flip': flip the {start-to-end} data, and add 'val' into them \n",
    "            - 'freq': resampling the {start-to-end} data with ratio of 'val' (e.g. val=1: no change, val=0.5: subsampling of half)\n",
    "            - 'freq_flip': flip the {start-to-end} data, and resampling them with ratio of 'val'\n",
    "    - 'inc': incremental drift\n",
    "        - (character)\n",
    "            - 'mean': {start-to-start+width} and {end-to-end+width} are transition period with adding slope (0-to-val). {start+width-to-end} is same as abrupt-mean drift\n",
    "            - 'freq': {start-to-start+width} and {end-to-end+width} are transition period with (1+rval)/2 subsampling. {start+width-to-end} is same as abrupt-freq drift\n",
    "    - 'grad': gradual drift\n",
    "        - (character)\n",
    "            - 'mean_flip': {start-to-start+width} and {end-to-end+width} are transition period with randomly selected subsequence with length slidingWindow. The random ratio is incrementally changed"
   ]
  },
  {
   "cell_type": "code",
   "execution_count": null,
   "metadata": {},
   "outputs": [],
   "source": [
    "def load_data_path(filename, data_type, character, val, start, end, width, max_len):\n",
    "    data_org = pd.read_csv(filename, header=None).to_numpy()\n",
    "    if max_len == None:\n",
    "        max_len = len(data_org)\n",
    "    data = data_org[:max_len,0].astype(float)\n",
    "    label=data_org[:max_len,1]\n",
    "\n",
    "    win = find_length(data)\n",
    "\n",
    "    data, label, label_cd = add_drift(data, label, data_type, start, end, character, val, win, width)\n",
    "    return data, label, label_cd, win"
   ]
  },
  {
   "cell_type": "markdown",
   "metadata": {},
   "source": [
    "### Add data files selectively...\n",
    "- Due to the limited memory (and number of files)"
   ]
  },
  {
   "cell_type": "code",
   "execution_count": null,
   "metadata": {},
   "outputs": [],
   "source": [
    "filepath = './data/benchmark/ECG/'\n",
    "# filepath = './data/benchmark/Dodgers/'\n",
    "# filepath = './data/benchmark/IOPS/'\n",
    "# filepath = './data/benchmark/SensorScope/'\n",
    "ext = '.out'\n",
    "start = 'MBA_ECG8'\n",
    "# start = '101'\n",
    "# start = 'KPI'\n",
    "\n",
    "tr_rate = 0.3\n",
    "size_L = 10\n",
    "\n",
    "filenames = []\n",
    "for filename in os.listdir(filepath):\n",
    "    if filename.endswith(ext): \n",
    "        if filename.startswith(start):\n",
    "            # print(filename[26:])\n",
    "            filenames.append(filename)\n",
    "\n",
    "df_results = pd.DataFrame()\n",
    "\n",
    "filenames = filenames[:1]\n",
    "params = [\n",
    "    # ['None', 'mean', 2, 0.4, 0.5, 0.1],\n",
    "    # ['abrupt', 'mean', 30, 0.4, 0.5, 0.1],\n",
    "    # ['inc', 'mean', 2, 0.4, 0.5, 0.1],\n",
    "    # ['abrupt', 'mean_flip', 0, 0.6, 0.9, 0.1],\n",
    "    ['grad', 'mean_flip', 1, 0.6, 0.9, 0.2],\n",
    "    # ['abrupt', 'freq', 0.8, 0.6, 0.9, 0.1]\n",
    "]\n",
    "i=0\n",
    "file = filenames[0]\n",
    "data, label, label_cd, slidingWindow = load_data_path(filepath+file, params[i][0], params[i][1], params[i][2], start=params[i][3], end=params[i][4], width=params[i][5], max_len = 50000)"
   ]
  }
 ],
 "metadata": {
  "language_info": {
   "name": "python"
  },
  "orig_nbformat": 4
 },
 "nbformat": 4,
 "nbformat_minor": 2
}
