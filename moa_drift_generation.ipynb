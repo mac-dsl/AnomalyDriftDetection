{
 "cells": [
  {
   "cell_type": "code",
   "execution_count": 7,
   "metadata": {},
   "outputs": [
    {
     "name": "stdout",
     "output_type": "stream",
     "text": [
      "The autoreload extension is already loaded. To reload it, use:\n",
      "  %reload_ext autoreload\n"
     ]
    }
   ],
   "source": [
    "# To allow changes in .py files to be reflected in Notebook\n",
    "%load_ext autoreload\n",
    "%autoreload 2"
   ]
  },
  {
   "cell_type": "markdown",
   "metadata": {},
   "source": [
    "## Generate Drift Using MOA"
   ]
  },
  {
   "cell_type": "markdown",
   "metadata": {},
   "source": [
    "Randomly select streams to use for drift stream generation. Check summary statistics to determine value for n_drift during drift generation. "
   ]
  },
  {
   "cell_type": "code",
   "execution_count": 8,
   "metadata": {},
   "outputs": [],
   "source": [
    "from util.stream import Stream, DriftStream\n",
    "from util.drift_generator import DriftGenerator\n",
    "import numpy as np\n",
    "import pandas as pd"
   ]
  },
  {
   "cell_type": "code",
   "execution_count": 25,
   "metadata": {},
   "outputs": [],
   "source": [
    "source_dir = '/Users/tammyz/Desktop/AnomalyDriftDetection/data/benchmark/ECG'\n",
    "drift_dir = '/Users/tammyz/Desktop/AnomalyDriftDetection/data/synthetic'\n",
    "moa_path = '/Users/tammyz/Desktop/moa-release-2023.04.0/lib'\n",
    "# source_dir = '/home/zengt5/AnomalyDriftDetection/data/benchmark/IOPS'\n",
    "# drift_dir = '/home/zengt5/AnomalyDriftDetection/data/synthetic'\n",
    "# moa_path = '/home/zengt5/moa-release-2023.04.0/lib'\n",
    "num_streams = 6\n",
    "g = DriftGenerator(source_dir, drift_dir, moa_path, num_streams)"
   ]
  },
  {
   "cell_type": "code",
   "execution_count": 26,
   "metadata": {},
   "outputs": [
    {
     "data": {
      "text/html": [
       "<div>\n",
       "<style scoped>\n",
       "    .dataframe tbody tr th:only-of-type {\n",
       "        vertical-align: middle;\n",
       "    }\n",
       "\n",
       "    .dataframe tbody tr th {\n",
       "        vertical-align: top;\n",
       "    }\n",
       "\n",
       "    .dataframe thead th {\n",
       "        text-align: right;\n",
       "    }\n",
       "</style>\n",
       "<table border=\"1\" class=\"dataframe\">\n",
       "  <thead>\n",
       "    <tr style=\"text-align: right;\">\n",
       "      <th></th>\n",
       "      <th>filename</th>\n",
       "      <th>len</th>\n",
       "      <th>num_anomalies</th>\n",
       "      <th>total_anom_cover</th>\n",
       "      <th>avg_anomaly_len</th>\n",
       "      <th>percent_anomalies</th>\n",
       "    </tr>\n",
       "  </thead>\n",
       "  <tbody>\n",
       "    <tr>\n",
       "      <th>1</th>\n",
       "      <td>MBA_ECG14046_data_1.arff</td>\n",
       "      <td>229900</td>\n",
       "      <td>447</td>\n",
       "      <td>36478</td>\n",
       "      <td>81.606264</td>\n",
       "      <td>0.158669</td>\n",
       "    </tr>\n",
       "    <tr>\n",
       "      <th>26</th>\n",
       "      <td>MBA_ECG14046_data_32.arff</td>\n",
       "      <td>229900</td>\n",
       "      <td>132</td>\n",
       "      <td>10288</td>\n",
       "      <td>77.939394</td>\n",
       "      <td>0.044750</td>\n",
       "    </tr>\n",
       "    <tr>\n",
       "      <th>30</th>\n",
       "      <td>MBA_ECG14046_data_36.arff</td>\n",
       "      <td>229900</td>\n",
       "      <td>153</td>\n",
       "      <td>11788</td>\n",
       "      <td>77.045752</td>\n",
       "      <td>0.051274</td>\n",
       "    </tr>\n",
       "    <tr>\n",
       "      <th>32</th>\n",
       "      <td>MBA_ECG14046_data_38.arff</td>\n",
       "      <td>229900</td>\n",
       "      <td>360</td>\n",
       "      <td>27841</td>\n",
       "      <td>77.336111</td>\n",
       "      <td>0.121100</td>\n",
       "    </tr>\n",
       "    <tr>\n",
       "      <th>50</th>\n",
       "      <td>MBA_ECG820_data.arff</td>\n",
       "      <td>230400</td>\n",
       "      <td>191</td>\n",
       "      <td>14386</td>\n",
       "      <td>75.319372</td>\n",
       "      <td>0.062439</td>\n",
       "    </tr>\n",
       "  </tbody>\n",
       "</table>\n",
       "</div>"
      ],
      "text/plain": [
       "                     filename     len  num_anomalies  total_anom_cover  \\\n",
       "1    MBA_ECG14046_data_1.arff  229900            447             36478   \n",
       "26  MBA_ECG14046_data_32.arff  229900            132             10288   \n",
       "30  MBA_ECG14046_data_36.arff  229900            153             11788   \n",
       "32  MBA_ECG14046_data_38.arff  229900            360             27841   \n",
       "50       MBA_ECG820_data.arff  230400            191             14386   \n",
       "\n",
       "    avg_anomaly_len  percent_anomalies  \n",
       "1         81.606264           0.158669  \n",
       "26        77.939394           0.044750  \n",
       "30        77.045752           0.051274  \n",
       "32        77.336111           0.121100  \n",
       "50        75.319372           0.062439  "
      ]
     },
     "execution_count": 26,
     "metadata": {},
     "output_type": "execute_result"
    }
   ],
   "source": [
    "df = g.get_source_summary()\n",
    "df"
   ]
  },
  {
   "cell_type": "code",
   "execution_count": 27,
   "metadata": {},
   "outputs": [
    {
     "data": {
      "text/html": [
       "<div>\n",
       "<style scoped>\n",
       "    .dataframe tbody tr th:only-of-type {\n",
       "        vertical-align: middle;\n",
       "    }\n",
       "\n",
       "    .dataframe tbody tr th {\n",
       "        vertical-align: top;\n",
       "    }\n",
       "\n",
       "    .dataframe thead th {\n",
       "        text-align: right;\n",
       "    }\n",
       "</style>\n",
       "<table border=\"1\" class=\"dataframe\">\n",
       "  <thead>\n",
       "    <tr style=\"text-align: right;\">\n",
       "      <th></th>\n",
       "      <th>len</th>\n",
       "      <th>num_anomalies</th>\n",
       "      <th>total_anom_cover</th>\n",
       "      <th>avg_anomaly_len</th>\n",
       "      <th>percent_anomalies</th>\n",
       "    </tr>\n",
       "  </thead>\n",
       "  <tbody>\n",
       "    <tr>\n",
       "      <th>count</th>\n",
       "      <td>5.000000</td>\n",
       "      <td>5.000000</td>\n",
       "      <td>5.00000</td>\n",
       "      <td>5.000000</td>\n",
       "      <td>5.000000</td>\n",
       "    </tr>\n",
       "    <tr>\n",
       "      <th>mean</th>\n",
       "      <td>230000.000000</td>\n",
       "      <td>256.600000</td>\n",
       "      <td>20156.20000</td>\n",
       "      <td>77.849378</td>\n",
       "      <td>0.087647</td>\n",
       "    </tr>\n",
       "    <tr>\n",
       "      <th>std</th>\n",
       "      <td>223.606798</td>\n",
       "      <td>139.198779</td>\n",
       "      <td>11469.09605</td>\n",
       "      <td>2.314762</td>\n",
       "      <td>0.049904</td>\n",
       "    </tr>\n",
       "    <tr>\n",
       "      <th>min</th>\n",
       "      <td>229900.000000</td>\n",
       "      <td>132.000000</td>\n",
       "      <td>10288.00000</td>\n",
       "      <td>75.319372</td>\n",
       "      <td>0.044750</td>\n",
       "    </tr>\n",
       "    <tr>\n",
       "      <th>25%</th>\n",
       "      <td>229900.000000</td>\n",
       "      <td>153.000000</td>\n",
       "      <td>11788.00000</td>\n",
       "      <td>77.045752</td>\n",
       "      <td>0.051274</td>\n",
       "    </tr>\n",
       "    <tr>\n",
       "      <th>50%</th>\n",
       "      <td>229900.000000</td>\n",
       "      <td>191.000000</td>\n",
       "      <td>14386.00000</td>\n",
       "      <td>77.336111</td>\n",
       "      <td>0.062439</td>\n",
       "    </tr>\n",
       "    <tr>\n",
       "      <th>75%</th>\n",
       "      <td>229900.000000</td>\n",
       "      <td>360.000000</td>\n",
       "      <td>27841.00000</td>\n",
       "      <td>77.939394</td>\n",
       "      <td>0.121100</td>\n",
       "    </tr>\n",
       "    <tr>\n",
       "      <th>max</th>\n",
       "      <td>230400.000000</td>\n",
       "      <td>447.000000</td>\n",
       "      <td>36478.00000</td>\n",
       "      <td>81.606264</td>\n",
       "      <td>0.158669</td>\n",
       "    </tr>\n",
       "  </tbody>\n",
       "</table>\n",
       "</div>"
      ],
      "text/plain": [
       "                 len  num_anomalies  total_anom_cover  avg_anomaly_len  \\\n",
       "count       5.000000       5.000000           5.00000         5.000000   \n",
       "mean   230000.000000     256.600000       20156.20000        77.849378   \n",
       "std       223.606798     139.198779       11469.09605         2.314762   \n",
       "min    229900.000000     132.000000       10288.00000        75.319372   \n",
       "25%    229900.000000     153.000000       11788.00000        77.045752   \n",
       "50%    229900.000000     191.000000       14386.00000        77.336111   \n",
       "75%    229900.000000     360.000000       27841.00000        77.939394   \n",
       "max    230400.000000     447.000000       36478.00000        81.606264   \n",
       "\n",
       "       percent_anomalies  \n",
       "count           5.000000  \n",
       "mean            0.087647  \n",
       "std             0.049904  \n",
       "min             0.044750  \n",
       "25%             0.051274  \n",
       "50%             0.062439  \n",
       "75%             0.121100  \n",
       "max             0.158669  "
      ]
     },
     "execution_count": 27,
     "metadata": {},
     "output_type": "execute_result"
    }
   ],
   "source": [
    "df.describe()"
   ]
  },
  {
   "cell_type": "code",
   "execution_count": 28,
   "metadata": {},
   "outputs": [
    {
     "data": {
      "text/html": [
       "<div>\n",
       "<style scoped>\n",
       "    .dataframe tbody tr th:only-of-type {\n",
       "        vertical-align: middle;\n",
       "    }\n",
       "\n",
       "    .dataframe tbody tr th {\n",
       "        vertical-align: top;\n",
       "    }\n",
       "\n",
       "    .dataframe thead th {\n",
       "        text-align: right;\n",
       "    }\n",
       "</style>\n",
       "<table border=\"1\" class=\"dataframe\">\n",
       "  <thead>\n",
       "    <tr style=\"text-align: right;\">\n",
       "      <th></th>\n",
       "      <th>0.1</th>\n",
       "      <th>0.2</th>\n",
       "      <th>0.3</th>\n",
       "      <th>0.4</th>\n",
       "      <th>0.5</th>\n",
       "      <th>0.6</th>\n",
       "      <th>0.7</th>\n",
       "    </tr>\n",
       "  </thead>\n",
       "  <tbody>\n",
       "    <tr>\n",
       "      <th>0</th>\n",
       "      <td>25.0</td>\n",
       "      <td>50.0</td>\n",
       "      <td>75.0</td>\n",
       "      <td>100.0</td>\n",
       "      <td>125.0</td>\n",
       "      <td>150.0</td>\n",
       "      <td>175.0</td>\n",
       "    </tr>\n",
       "  </tbody>\n",
       "</table>\n",
       "</div>"
      ],
      "text/plain": [
       "    0.1   0.2   0.3    0.4    0.5    0.6    0.7\n",
       "0  25.0  50.0  75.0  100.0  125.0  150.0  175.0"
      ]
     },
     "execution_count": 28,
     "metadata": {},
     "output_type": "execute_result"
    }
   ],
   "source": [
    "mean_num_anom = 250\n",
    "percent = np.arange(0.1,0.8,0.1)\n",
    "percent_anom = mean_num_anom * percent\n",
    "pd.DataFrame([percent_anom], columns=percent)"
   ]
  },
  {
   "cell_type": "markdown",
   "metadata": {},
   "source": [
    "The following parameters can be assigned in the next cell to guide characteristics of the generated drift stream:\n",
    "\n",
    "- `length`: int, total length of new stream\n",
    "- `p_drift`: float, target percent of data points classified as drift\n",
    "- `n_drift`: int, target number of drift sequences\n",
    "- `p_before`: float, target percent of drift coming before anomaly\n",
    "- `sub_dir`: string, name of subdirectory to export drift stream\n",
    "- `dataset`: string, descriptor (name) or source dataset for identification\n",
    "- `mode`: int, indicator for drift assembly method, options {0,1}, default 0\n",
    "    - Mode 0: variable drift widths and positions\n",
    "    - Mode 1: uniform drift widths and positions (helpful for high p_drift)\n",
    "- Returns `output_path, drift_label, positions, streams, seq_before`\n",
    "\n",
    "\n",
    "Note: If you encounter trouble with generating large percentage drift, you can use `mode=1`."
   ]
  },
  {
   "cell_type": "code",
   "execution_count": 29,
   "metadata": {},
   "outputs": [],
   "source": [
    "length = 229900\n",
    "n_drift = 28\n",
    "p_drift = 0.35\n",
    "p_drift_before = 0.5\n",
    "sub_dir = 'n_drift/n_a10'\n",
    "dataset = 'ECG'"
   ]
  },
  {
   "cell_type": "code",
   "execution_count": 30,
   "metadata": {},
   "outputs": [
    {
     "name": "stdout",
     "output_type": "stream",
     "text": [
      "Generating splits...\n",
      "\tGetting partitions...\n",
      "\tGetting order of drifts coming before anomaly...\n",
      "\tGetting drift center positions...\n",
      "\tGetting stream file cuts...\n",
      "Done!\n",
      "Getting stream file cuts...\tDone!\n",
      "Creating intermediate files...\tDone!\n",
      "Recursively generating MOA command...\tDone!\n",
      "Drift filename:  ECG_grad_p34_n27_b50\n",
      "Running terminal command...\t"
     ]
    },
    {
     "name": "stderr",
     "output_type": "stream",
     "text": [
      "\n",
      "{M}assive {O}nline {A}nalysis\n",
      "Version:  23.04 April 2023\n",
      "Copyright: (C) 2007-2023 University of Waikato, Hamilton, New Zealand\n",
      "Web: http://moa.cms.waikato.ac.nz/\n",
      "\n",
      "                                                                               \n",
      "Task completed in 1.26s (CPU time)\n",
      "\n"
     ]
    },
    {
     "name": "stdout",
     "output_type": "stream",
     "text": [
      "Stream written to ARFF file /Users/tammyz/Desktop/AnomalyDriftDetection/data/synthetic/n_a10/ECG_grad_p34_n27_b50.arff\n",
      "Done!\n",
      "Generating drift labels...\tDone!\n"
     ]
    }
   ],
   "source": [
    "drift_stream = g.run_generate_grad_stream_moa(\n",
    "    length, \n",
    "    p_drift, \n",
    "    n_drift,\n",
    "    p_drift_before, \n",
    "    sub_dir,\n",
    "    dataset,\n",
    "    mode=0 # 0 for variable drift widths and positions, 1 for uniform\n",
    ")"
   ]
  },
  {
   "cell_type": "code",
   "execution_count": 31,
   "metadata": {},
   "outputs": [
    {
     "data": {
      "image/png": "[encoded data removed]",
      "text/plain": [
       "<Figure size 1000x300 with 1 Axes>"
      ]
     },
     "metadata": {},
     "output_type": "display_data"
    }
   ],
   "source": [
    "drift_stream.plot_drift()"
   ]
  },
  {
   "cell_type": "markdown",
   "metadata": {},
   "source": [
    "## Update an Existing Data Stream"
   ]
  },
  {
   "cell_type": "markdown",
   "metadata": {},
   "source": [
    "#### Read data and set up object to generate new data stream"
   ]
  },
  {
   "cell_type": "code",
   "execution_count": 32,
   "metadata": {},
   "outputs": [],
   "source": [
    "# Read existing data file\n",
    "from util.stream import DriftStream\n",
    "\n",
    "# source_dir = \"data/benchmark/IOPS\" # directory for source streams\n",
    "source_dir = '/Users/tammyz/Desktop/AnomalyDriftDetection/data/benchmark/ECG'\n",
    "output_path = '/Users/tammyz/Desktop/AnomalyDriftDetection/data/synthetic/n_drift/n_a10/ECG_grad_p34_n27_b50.arff'\n",
    "d1 = DriftStream(output_path, source_dir)"
   ]
  },
  {
   "cell_type": "code",
   "execution_count": 33,
   "metadata": {},
   "outputs": [],
   "source": [
    "# Create object to generate new data stream\n",
    "g2 = DriftGenerator(source_dir, drift_dir, moa_path, selected_streams=d1.source_streams)\n",
    "positions = d1.positions # this variable returns positions from above with [0] appended to the front\n",
    "streams = d1.streams\n",
    "seq_before = d1.seq_before\n",
    "w_drift = d1.w_drift"
   ]
  },
  {
   "cell_type": "markdown",
   "metadata": {},
   "source": [
    "#### The following values can be modified individually to make changes to the data stream"
   ]
  },
  {
   "cell_type": "code",
   "execution_count": 34,
   "metadata": {},
   "outputs": [
    {
     "data": {
      "text/html": [
       "<div>\n",
       "<style scoped>\n",
       "    .dataframe tbody tr th:only-of-type {\n",
       "        vertical-align: middle;\n",
       "    }\n",
       "\n",
       "    .dataframe tbody tr th {\n",
       "        vertical-align: top;\n",
       "    }\n",
       "\n",
       "    .dataframe thead th {\n",
       "        text-align: right;\n",
       "    }\n",
       "</style>\n",
       "<table border=\"1\" class=\"dataframe\">\n",
       "  <thead>\n",
       "    <tr style=\"text-align: right;\">\n",
       "      <th></th>\n",
       "      <th>positions</th>\n",
       "      <th>streams (after)</th>\n",
       "      <th>seq_before</th>\n",
       "      <th>w_drift</th>\n",
       "    </tr>\n",
       "  </thead>\n",
       "  <tbody>\n",
       "    <tr>\n",
       "      <th>1</th>\n",
       "      <td>6509</td>\n",
       "      <td>4</td>\n",
       "      <td>True</td>\n",
       "      <td>1117</td>\n",
       "    </tr>\n",
       "    <tr>\n",
       "      <th>2</th>\n",
       "      <td>10649</td>\n",
       "      <td>3</td>\n",
       "      <td>True</td>\n",
       "      <td>2453</td>\n",
       "    </tr>\n",
       "    <tr>\n",
       "      <th>3</th>\n",
       "      <td>18763</td>\n",
       "      <td>4</td>\n",
       "      <td>False</td>\n",
       "      <td>2975</td>\n",
       "    </tr>\n",
       "    <tr>\n",
       "      <th>4</th>\n",
       "      <td>24599</td>\n",
       "      <td>2</td>\n",
       "      <td>True</td>\n",
       "      <td>1333</td>\n",
       "    </tr>\n",
       "    <tr>\n",
       "      <th>5</th>\n",
       "      <td>31772</td>\n",
       "      <td>4</td>\n",
       "      <td>False</td>\n",
       "      <td>3972</td>\n",
       "    </tr>\n",
       "    <tr>\n",
       "      <th>6</th>\n",
       "      <td>45079</td>\n",
       "      <td>2</td>\n",
       "      <td>False</td>\n",
       "      <td>3625</td>\n",
       "    </tr>\n",
       "  </tbody>\n",
       "</table>\n",
       "</div>"
      ],
      "text/plain": [
       "   positions  streams (after)  seq_before  w_drift\n",
       "1       6509                4        True     1117\n",
       "2      10649                3        True     2453\n",
       "3      18763                4       False     2975\n",
       "4      24599                2        True     1333\n",
       "5      31772                4       False     3972\n",
       "6      45079                2       False     3625"
      ]
     },
     "execution_count": 34,
     "metadata": {},
     "output_type": "execute_result"
    }
   ],
   "source": [
    "# View index values\n",
    "k = 4\n",
    "w = 3\n",
    "index = [i for i in range(k-w,k+w,1)]\n",
    "pd.DataFrame({'positions': positions[k-w:k+w], 'streams (after)': streams[k-w:k+w], 'seq_before': seq_before[k-w-1:k+w-1], 'w_drift': w_drift[k-w-1:k+w-1]}, index=index)"
   ]
  },
  {
   "cell_type": "code",
   "execution_count": null,
   "metadata": {},
   "outputs": [],
   "source": [
    "streams[60]"
   ]
  },
  {
   "cell_type": "code",
   "execution_count": null,
   "metadata": {},
   "outputs": [],
   "source": [
    "positions[2] -= 1200"
   ]
  },
  {
   "cell_type": "code",
   "execution_count": 46,
   "metadata": {},
   "outputs": [],
   "source": [
    "w_drift[53] = 250"
   ]
  },
  {
   "cell_type": "code",
   "execution_count": 31,
   "metadata": {},
   "outputs": [],
   "source": [
    "seq_before[84] = True"
   ]
  },
  {
   "cell_type": "code",
   "execution_count": null,
   "metadata": {},
   "outputs": [],
   "source": [
    "# Remove a drift by selecting the index to remove (r_i)\n",
    "r_i = 3\n",
    "positions = positions[:r_i] + positions[r_i+1:]\n",
    "streams = streams[:r_i] + streams[r_i+1:]\n",
    "w_drift[r_i] = w_drift[r_i-1] + w_drift[r_i]\n",
    "w_drift = w_drift[:r_i-1] + w_drift[r_i:]\n",
    "seq_before = seq_before[:r_i-1] + seq_before[r_i:]"
   ]
  },
  {
   "cell_type": "code",
   "execution_count": 390,
   "metadata": {},
   "outputs": [
    {
     "data": {
      "text/html": [
       "<div>\n",
       "<style scoped>\n",
       "    .dataframe tbody tr th:only-of-type {\n",
       "        vertical-align: middle;\n",
       "    }\n",
       "\n",
       "    .dataframe tbody tr th {\n",
       "        vertical-align: top;\n",
       "    }\n",
       "\n",
       "    .dataframe thead th {\n",
       "        text-align: right;\n",
       "    }\n",
       "</style>\n",
       "<table border=\"1\" class=\"dataframe\">\n",
       "  <thead>\n",
       "    <tr style=\"text-align: right;\">\n",
       "      <th></th>\n",
       "      <th>positions</th>\n",
       "      <th>streams (after)</th>\n",
       "      <th>w_drift</th>\n",
       "    </tr>\n",
       "  </thead>\n",
       "  <tbody>\n",
       "    <tr>\n",
       "      <th>30</th>\n",
       "      <td>98398</td>\n",
       "      <td>5</td>\n",
       "      <td>344</td>\n",
       "    </tr>\n",
       "    <tr>\n",
       "      <th>31</th>\n",
       "      <td>108581</td>\n",
       "      <td>4</td>\n",
       "      <td>5097</td>\n",
       "    </tr>\n",
       "    <tr>\n",
       "      <th>32</th>\n",
       "      <td>110528</td>\n",
       "      <td>0</td>\n",
       "      <td>24</td>\n",
       "    </tr>\n",
       "    <tr>\n",
       "      <th>33</th>\n",
       "      <td>116615</td>\n",
       "      <td>4</td>\n",
       "      <td>1675</td>\n",
       "    </tr>\n",
       "  </tbody>\n",
       "</table>\n",
       "</div>"
      ],
      "text/plain": [
       "    positions  streams (after)  w_drift\n",
       "30      98398                5      344\n",
       "31     108581                4     5097\n",
       "32     110528                0       24\n",
       "33     116615                4     1675"
      ]
     },
     "execution_count": 390,
     "metadata": {},
     "output_type": "execute_result"
    }
   ],
   "source": [
    "index = [i for i in range(k-w,k+w,1)]\n",
    "pd.DataFrame({'positions': positions[k-w:k+w], 'streams (after)': streams[k-w:k+w], 'w_drift': w_drift[k-w-1:k+w-1]}, index=index)"
   ]
  },
  {
   "cell_type": "markdown",
   "metadata": {},
   "source": [
    "#### Generate new data stream based on updated drift characteristics"
   ]
  },
  {
   "cell_type": "code",
   "execution_count": 51,
   "metadata": {},
   "outputs": [
    {
     "name": "stdout",
     "output_type": "stream",
     "text": [
      "Getting stream file cuts...\tDone!\n",
      "Creating intermediate files...\t"
     ]
    },
    {
     "name": "stdout",
     "output_type": "stream",
     "text": [
      "Done!\n",
      "Recursively generating MOA command...\tDone!\n",
      "Drift filename:  IOPS_grad_p35_n21_b50\n",
      "Running terminal command...\t"
     ]
    },
    {
     "name": "stderr",
     "output_type": "stream",
     "text": [
      "\n",
      "{M}assive {O}nline {A}nalysis\n",
      "Version:  23.04 April 2023\n",
      "Copyright: (C) 2007-2023 University of Waikato, Hamilton, New Zealand\n",
      "Web: http://moa.cms.waikato.ac.nz/\n",
      "\n",
      "                                                                               \n",
      "Task completed in 0.51s (CPU time)\n",
      "\n"
     ]
    },
    {
     "name": "stdout",
     "output_type": "stream",
     "text": [
      "Stream written to ARFF file /home/zengt5/AnomalyDriftDetection/data/synthetic/n_drift/n_a50/IOPS_grad_p35_n21_b50.arff\n",
      "Done!\n",
      "Generating drift labels...\tDone!\n"
     ]
    }
   ],
   "source": [
    "output_path, drift_label =  g2.assemble_drift_stream(\n",
    "    positions[1:-1],\n",
    "    streams,\n",
    "    w_drift,\n",
    "    seq_before,\n",
    "    sub_dir='n_drift/n_a50',\n",
    "    length=d1.length,\n",
    "    dataset='IOPS'\n",
    ")"
   ]
  }
 ],
 "metadata": {
  "kernelspec": {
   "display_name": "TSB",
   "language": "python",
   "name": "python3"
  },
  "language_info": {
   "codemirror_mode": {
    "name": "ipython",
    "version": 3
   },
   "file_extension": ".py",
   "mimetype": "text/x-python",
   "name": "python",
   "nbconvert_exporter": "python",
   "pygments_lexer": "ipython3",
   "version": "3.8.18"
  }
 },
 "nbformat": 4,
 "nbformat_minor": 2
}
