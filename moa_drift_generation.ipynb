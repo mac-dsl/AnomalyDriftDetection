{
 "cells": [
  {
   "cell_type": "code",
   "execution_count": 16,
   "metadata": {},
   "outputs": [
    {
     "name": "stdout",
     "output_type": "stream",
     "text": [
      "The autoreload extension is already loaded. To reload it, use:\n",
      "  %reload_ext autoreload\n"
     ]
    }
   ],
   "source": [
    "# To allow changes in .py files to be reflected in Notebook\n",
    "%load_ext autoreload\n",
    "%autoreload 2"
   ]
  },
  {
   "cell_type": "markdown",
   "metadata": {},
   "source": [
    "Randomly select streams to use for drift stream generation. Check summary statistics to determine value for n_drift during drift generation. If trouble is encountered with generating large percentage drift, using a selection of streams with a smaller mean for num_anomalies (therefore requiring a smaller n_drift) may help."
   ]
  },
  {
   "cell_type": "code",
   "execution_count": 22,
   "metadata": {},
   "outputs": [],
   "source": [
    "from util.generate_moa_stream import GenMOAStream\n",
    "import numpy as np\n",
    "import pandas as pd"
   ]
  },
  {
   "cell_type": "code",
   "execution_count": 18,
   "metadata": {},
   "outputs": [],
   "source": [
    "source_dir = '/Users/tammyz/Desktop/3H03/AnomalyDriftDetection/data/benchmark/ECG'\n",
    "num_streams = 6\n",
    "drift_dir = '/Users/tammyz/Desktop/3H03/AnomalyDriftDetection/data/synthetic'\n",
    "moa_path = '/Users/tammyz/Desktop/3H03/moa-release-2023.04.0/lib'\n",
    "g = GenMOAStream(source_dir, num_streams, drift_dir, moa_path)"
   ]
  },
  {
   "cell_type": "code",
   "execution_count": 19,
   "metadata": {},
   "outputs": [
    {
     "data": {
      "text/html": [
       "<div>\n",
       "<style scoped>\n",
       "    .dataframe tbody tr th:only-of-type {\n",
       "        vertical-align: middle;\n",
       "    }\n",
       "\n",
       "    .dataframe tbody tr th {\n",
       "        vertical-align: top;\n",
       "    }\n",
       "\n",
       "    .dataframe thead th {\n",
       "        text-align: right;\n",
       "    }\n",
       "</style>\n",
       "<table border=\"1\" class=\"dataframe\">\n",
       "  <thead>\n",
       "    <tr style=\"text-align: right;\">\n",
       "      <th></th>\n",
       "      <th>filename</th>\n",
       "      <th>len</th>\n",
       "      <th>num_anomalies</th>\n",
       "      <th>total_anom_cover</th>\n",
       "      <th>avg_anomaly_len</th>\n",
       "      <th>percent_anomalies</th>\n",
       "    </tr>\n",
       "  </thead>\n",
       "  <tbody>\n",
       "    <tr>\n",
       "      <th>2</th>\n",
       "      <td>MBA_ECG14046_data_10.arff</td>\n",
       "      <td>229900</td>\n",
       "      <td>107</td>\n",
       "      <td>8130</td>\n",
       "      <td>75.981308</td>\n",
       "      <td>0.035363</td>\n",
       "    </tr>\n",
       "    <tr>\n",
       "      <th>14</th>\n",
       "      <td>MBA_ECG14046_data_21.arff</td>\n",
       "      <td>229900</td>\n",
       "      <td>95</td>\n",
       "      <td>7229</td>\n",
       "      <td>76.094737</td>\n",
       "      <td>0.031444</td>\n",
       "    </tr>\n",
       "    <tr>\n",
       "      <th>20</th>\n",
       "      <td>MBA_ECG14046_data_27.arff</td>\n",
       "      <td>229900</td>\n",
       "      <td>103</td>\n",
       "      <td>7929</td>\n",
       "      <td>76.980583</td>\n",
       "      <td>0.034489</td>\n",
       "    </tr>\n",
       "    <tr>\n",
       "      <th>22</th>\n",
       "      <td>MBA_ECG14046_data_29.arff</td>\n",
       "      <td>229900</td>\n",
       "      <td>63</td>\n",
       "      <td>4725</td>\n",
       "      <td>75.000000</td>\n",
       "      <td>0.020552</td>\n",
       "    </tr>\n",
       "    <tr>\n",
       "      <th>38</th>\n",
       "      <td>MBA_ECG14046_data_43.arff</td>\n",
       "      <td>229900</td>\n",
       "      <td>376</td>\n",
       "      <td>31300</td>\n",
       "      <td>83.244681</td>\n",
       "      <td>0.136146</td>\n",
       "    </tr>\n",
       "    <tr>\n",
       "      <th>47</th>\n",
       "      <td>MBA_ECG801_data.arff</td>\n",
       "      <td>227900</td>\n",
       "      <td>345</td>\n",
       "      <td>28875</td>\n",
       "      <td>83.695652</td>\n",
       "      <td>0.126700</td>\n",
       "    </tr>\n",
       "  </tbody>\n",
       "</table>\n",
       "</div>"
      ],
      "text/plain": [
       "                     filename     len  num_anomalies  total_anom_cover  \\\n",
       "2   MBA_ECG14046_data_10.arff  229900            107              8130   \n",
       "14  MBA_ECG14046_data_21.arff  229900             95              7229   \n",
       "20  MBA_ECG14046_data_27.arff  229900            103              7929   \n",
       "22  MBA_ECG14046_data_29.arff  229900             63              4725   \n",
       "38  MBA_ECG14046_data_43.arff  229900            376             31300   \n",
       "47       MBA_ECG801_data.arff  227900            345             28875   \n",
       "\n",
       "    avg_anomaly_len  percent_anomalies  \n",
       "2         75.981308           0.035363  \n",
       "14        76.094737           0.031444  \n",
       "20        76.980583           0.034489  \n",
       "22        75.000000           0.020552  \n",
       "38        83.244681           0.136146  \n",
       "47        83.695652           0.126700  "
      ]
     },
     "execution_count": 19,
     "metadata": {},
     "output_type": "execute_result"
    }
   ],
   "source": [
    "df = g.get_source_summary()\n",
    "df"
   ]
  },
  {
   "cell_type": "code",
   "execution_count": 20,
   "metadata": {},
   "outputs": [
    {
     "data": {
      "text/html": [
       "<div>\n",
       "<style scoped>\n",
       "    .dataframe tbody tr th:only-of-type {\n",
       "        vertical-align: middle;\n",
       "    }\n",
       "\n",
       "    .dataframe tbody tr th {\n",
       "        vertical-align: top;\n",
       "    }\n",
       "\n",
       "    .dataframe thead th {\n",
       "        text-align: right;\n",
       "    }\n",
       "</style>\n",
       "<table border=\"1\" class=\"dataframe\">\n",
       "  <thead>\n",
       "    <tr style=\"text-align: right;\">\n",
       "      <th></th>\n",
       "      <th>len</th>\n",
       "      <th>num_anomalies</th>\n",
       "      <th>total_anom_cover</th>\n",
       "      <th>avg_anomaly_len</th>\n",
       "      <th>percent_anomalies</th>\n",
       "    </tr>\n",
       "  </thead>\n",
       "  <tbody>\n",
       "    <tr>\n",
       "      <th>count</th>\n",
       "      <td>6.000000</td>\n",
       "      <td>6.000000</td>\n",
       "      <td>6.00000</td>\n",
       "      <td>6.000000</td>\n",
       "      <td>6.000000</td>\n",
       "    </tr>\n",
       "    <tr>\n",
       "      <th>mean</th>\n",
       "      <td>229566.666667</td>\n",
       "      <td>181.500000</td>\n",
       "      <td>14698.00000</td>\n",
       "      <td>78.499493</td>\n",
       "      <td>0.064116</td>\n",
       "    </tr>\n",
       "    <tr>\n",
       "      <th>std</th>\n",
       "      <td>816.496581</td>\n",
       "      <td>139.856712</td>\n",
       "      <td>12006.81813</td>\n",
       "      <td>3.903704</td>\n",
       "      <td>0.052488</td>\n",
       "    </tr>\n",
       "    <tr>\n",
       "      <th>min</th>\n",
       "      <td>227900.000000</td>\n",
       "      <td>63.000000</td>\n",
       "      <td>4725.00000</td>\n",
       "      <td>75.000000</td>\n",
       "      <td>0.020552</td>\n",
       "    </tr>\n",
       "    <tr>\n",
       "      <th>25%</th>\n",
       "      <td>229900.000000</td>\n",
       "      <td>97.000000</td>\n",
       "      <td>7404.00000</td>\n",
       "      <td>76.009666</td>\n",
       "      <td>0.032205</td>\n",
       "    </tr>\n",
       "    <tr>\n",
       "      <th>50%</th>\n",
       "      <td>229900.000000</td>\n",
       "      <td>105.000000</td>\n",
       "      <td>8029.50000</td>\n",
       "      <td>76.537660</td>\n",
       "      <td>0.034926</td>\n",
       "    </tr>\n",
       "    <tr>\n",
       "      <th>75%</th>\n",
       "      <td>229900.000000</td>\n",
       "      <td>285.500000</td>\n",
       "      <td>23688.75000</td>\n",
       "      <td>81.678656</td>\n",
       "      <td>0.103866</td>\n",
       "    </tr>\n",
       "    <tr>\n",
       "      <th>max</th>\n",
       "      <td>229900.000000</td>\n",
       "      <td>376.000000</td>\n",
       "      <td>31300.00000</td>\n",
       "      <td>83.695652</td>\n",
       "      <td>0.136146</td>\n",
       "    </tr>\n",
       "  </tbody>\n",
       "</table>\n",
       "</div>"
      ],
      "text/plain": [
       "                 len  num_anomalies  total_anom_cover  avg_anomaly_len  \\\n",
       "count       6.000000       6.000000           6.00000         6.000000   \n",
       "mean   229566.666667     181.500000       14698.00000        78.499493   \n",
       "std       816.496581     139.856712       12006.81813         3.903704   \n",
       "min    227900.000000      63.000000        4725.00000        75.000000   \n",
       "25%    229900.000000      97.000000        7404.00000        76.009666   \n",
       "50%    229900.000000     105.000000        8029.50000        76.537660   \n",
       "75%    229900.000000     285.500000       23688.75000        81.678656   \n",
       "max    229900.000000     376.000000       31300.00000        83.695652   \n",
       "\n",
       "       percent_anomalies  \n",
       "count           6.000000  \n",
       "mean            0.064116  \n",
       "std             0.052488  \n",
       "min             0.020552  \n",
       "25%             0.032205  \n",
       "50%             0.034926  \n",
       "75%             0.103866  \n",
       "max             0.136146  "
      ]
     },
     "execution_count": 20,
     "metadata": {},
     "output_type": "execute_result"
    }
   ],
   "source": [
    "df.describe()"
   ]
  },
  {
   "cell_type": "code",
   "execution_count": 23,
   "metadata": {},
   "outputs": [
    {
     "data": {
      "text/html": [
       "<div>\n",
       "<style scoped>\n",
       "    .dataframe tbody tr th:only-of-type {\n",
       "        vertical-align: middle;\n",
       "    }\n",
       "\n",
       "    .dataframe tbody tr th {\n",
       "        vertical-align: top;\n",
       "    }\n",
       "\n",
       "    .dataframe thead th {\n",
       "        text-align: right;\n",
       "    }\n",
       "</style>\n",
       "<table border=\"1\" class=\"dataframe\">\n",
       "  <thead>\n",
       "    <tr style=\"text-align: right;\">\n",
       "      <th></th>\n",
       "      <th>0.1</th>\n",
       "      <th>0.2</th>\n",
       "      <th>0.3</th>\n",
       "      <th>0.4</th>\n",
       "      <th>0.5</th>\n",
       "      <th>0.6</th>\n",
       "      <th>0.7</th>\n",
       "    </tr>\n",
       "  </thead>\n",
       "  <tbody>\n",
       "    <tr>\n",
       "      <th>0</th>\n",
       "      <td>18.1</td>\n",
       "      <td>36.2</td>\n",
       "      <td>54.3</td>\n",
       "      <td>72.4</td>\n",
       "      <td>90.5</td>\n",
       "      <td>108.6</td>\n",
       "      <td>126.7</td>\n",
       "    </tr>\n",
       "  </tbody>\n",
       "</table>\n",
       "</div>"
      ],
      "text/plain": [
       "    0.1   0.2   0.3   0.4   0.5    0.6    0.7\n",
       "0  18.1  36.2  54.3  72.4  90.5  108.6  126.7"
      ]
     },
     "execution_count": 23,
     "metadata": {},
     "output_type": "execute_result"
    }
   ],
   "source": [
    "mean_num_anom = 181\n",
    "percent = np.arange(0.1,0.8,0.1)\n",
    "percent_anom = mean_num_anom * percent\n",
    "pd.DataFrame([percent_anom], columns=percent)"
   ]
  },
  {
   "cell_type": "code",
   "execution_count": null,
   "metadata": {},
   "outputs": [],
   "source": [
    "length = 229900\n",
    "n_drift = 55\n",
    "p_drift = 0.45\n",
    "p_drift_before = 0.5\n",
    "sub_dir = 'test'\n",
    "dataset = 'ECG'"
   ]
  },
  {
   "cell_type": "code",
   "execution_count": null,
   "metadata": {},
   "outputs": [
    {
     "name": "stdout",
     "output_type": "stream",
     "text": [
      "Generating splits...\n",
      "\tGetting partitions...\n",
      "\tGetting order of drifts coming before anomaly...\n",
      "\tGetting drift center positions...\n",
      "\tGetting stream file cuts...\n",
      "Done!\n",
      "Creating intermediate files...\tDone!\n",
      "Recursively generating MOA command...\tDone!\n",
      "Drift filename:  ECG_grad_p41_n49_b51\n",
      "Running terminal command...\t"
     ]
    },
    {
     "name": "stderr",
     "output_type": "stream",
     "text": [
      "\n",
      "{M}assive {O}nline {A}nalysis\n",
      "Version:  23.04 April 2023\n",
      "Copyright: (C) 2007-2023 University of Waikato, Hamilton, New Zealand\n",
      "Web: http://moa.cms.waikato.ac.nz/\n",
      "\n",
      "                                                                               \n",
      "Task completed in 1.09s (CPU time)\n",
      "\n"
     ]
    },
    {
     "name": "stdout",
     "output_type": "stream",
     "text": [
      "Stream written to ARFF file /Users/tammyz/Desktop/3H03/AnomalyDriftDetection/data/synthetic/test/ECG_grad_p41_n49_b51.arff\n",
      "Done!\n",
      "Generating drift labels...\tDone!\n"
     ]
    }
   ],
   "source": [
    "output_path, drift_label, streams, positions, seq_drift_after = g.run_generate_grad_stream_moa(\n",
    "    length, \n",
    "    p_drift, \n",
    "    n_drift,\n",
    "    p_drift_before, \n",
    "    sub_dir,\n",
    "    dataset\n",
    ")"
   ]
  }
 ],
 "metadata": {
  "kernelspec": {
   "display_name": "TSB",
   "language": "python",
   "name": "python3"
  },
  "language_info": {
   "codemirror_mode": {
    "name": "ipython",
    "version": 3
   },
   "file_extension": ".py",
   "mimetype": "text/x-python",
   "name": "python",
   "nbconvert_exporter": "python",
   "pygments_lexer": "ipython3",
   "version": "3.8.18"
  }
 },
 "nbformat": 4,
 "nbformat_minor": 2
}
