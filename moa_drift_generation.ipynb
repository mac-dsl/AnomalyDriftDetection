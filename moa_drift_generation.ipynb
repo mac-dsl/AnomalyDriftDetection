{
 "cells": [
  {
   "cell_type": "code",
   "execution_count": 1,
   "metadata": {},
   "outputs": [],
   "source": [
    "# To allow changes in .py files to be reflected in Notebook\n",
    "%load_ext autoreload\n",
    "%autoreload 2"
   ]
  },
  {
   "cell_type": "markdown",
   "metadata": {},
   "source": [
    "Randomly select streams to use for drift stream generation. Check summary statistics to determine value for n_drift during drift generation. If trouble is encountered with generating large percentage drift, using a selection of streams with a smaller mean for num_anomalies (therefore requiring a smaller n_drift) may help."
   ]
  },
  {
   "cell_type": "code",
   "execution_count": 1,
   "metadata": {},
   "outputs": [],
   "source": [
    "from util.generate_moa_stream import GenMOAStream\n",
    "import numpy as np\n",
    "import pandas as pd"
   ]
  },
  {
   "cell_type": "code",
   "execution_count": 2,
   "metadata": {},
   "outputs": [],
   "source": [
    "source_dir = '/Users/tammyz/Desktop/3H03/AnomalyDriftDetection/data/benchmark/ECG'\n",
    "drift_dir = '/Users/tammyz/Desktop/3H03/AnomalyDriftDetection/data/synthetic'\n",
    "moa_path = '/Users/tammyz/Desktop/3H03/moa-release-2023.04.0/lib'\n",
    "num_streams = 6\n",
    "g = GenMOAStream(source_dir, drift_dir, moa_path, num_streams)"
   ]
  },
  {
   "cell_type": "code",
   "execution_count": 3,
   "metadata": {},
   "outputs": [
    {
     "data": {
      "text/html": [
       "<div>\n",
       "<style scoped>\n",
       "    .dataframe tbody tr th:only-of-type {\n",
       "        vertical-align: middle;\n",
       "    }\n",
       "\n",
       "    .dataframe tbody tr th {\n",
       "        vertical-align: top;\n",
       "    }\n",
       "\n",
       "    .dataframe thead th {\n",
       "        text-align: right;\n",
       "    }\n",
       "</style>\n",
       "<table border=\"1\" class=\"dataframe\">\n",
       "  <thead>\n",
       "    <tr style=\"text-align: right;\">\n",
       "      <th></th>\n",
       "      <th>filename</th>\n",
       "      <th>len</th>\n",
       "      <th>num_anomalies</th>\n",
       "      <th>total_anom_cover</th>\n",
       "      <th>avg_anomaly_len</th>\n",
       "      <th>percent_anomalies</th>\n",
       "    </tr>\n",
       "  </thead>\n",
       "  <tbody>\n",
       "    <tr>\n",
       "      <th>1</th>\n",
       "      <td>MBA_ECG14046_data_1.arff</td>\n",
       "      <td>229900</td>\n",
       "      <td>447</td>\n",
       "      <td>36478</td>\n",
       "      <td>81.606264</td>\n",
       "      <td>0.158669</td>\n",
       "    </tr>\n",
       "    <tr>\n",
       "      <th>4</th>\n",
       "      <td>MBA_ECG14046_data_12.arff</td>\n",
       "      <td>229900</td>\n",
       "      <td>169</td>\n",
       "      <td>14318</td>\n",
       "      <td>84.721893</td>\n",
       "      <td>0.062279</td>\n",
       "    </tr>\n",
       "    <tr>\n",
       "      <th>14</th>\n",
       "      <td>MBA_ECG14046_data_21.arff</td>\n",
       "      <td>229900</td>\n",
       "      <td>95</td>\n",
       "      <td>7229</td>\n",
       "      <td>76.094737</td>\n",
       "      <td>0.031444</td>\n",
       "    </tr>\n",
       "    <tr>\n",
       "      <th>16</th>\n",
       "      <td>MBA_ECG14046_data_23.arff</td>\n",
       "      <td>229900</td>\n",
       "      <td>124</td>\n",
       "      <td>9300</td>\n",
       "      <td>75.000000</td>\n",
       "      <td>0.040452</td>\n",
       "    </tr>\n",
       "    <tr>\n",
       "      <th>18</th>\n",
       "      <td>MBA_ECG14046_data_25.arff</td>\n",
       "      <td>229900</td>\n",
       "      <td>106</td>\n",
       "      <td>8241</td>\n",
       "      <td>77.745283</td>\n",
       "      <td>0.035846</td>\n",
       "    </tr>\n",
       "    <tr>\n",
       "      <th>22</th>\n",
       "      <td>MBA_ECG14046_data_29.arff</td>\n",
       "      <td>229900</td>\n",
       "      <td>63</td>\n",
       "      <td>4725</td>\n",
       "      <td>75.000000</td>\n",
       "      <td>0.020552</td>\n",
       "    </tr>\n",
       "  </tbody>\n",
       "</table>\n",
       "</div>"
      ],
      "text/plain": [
       "                     filename     len  num_anomalies  total_anom_cover  \\\n",
       "1    MBA_ECG14046_data_1.arff  229900            447             36478   \n",
       "4   MBA_ECG14046_data_12.arff  229900            169             14318   \n",
       "14  MBA_ECG14046_data_21.arff  229900             95              7229   \n",
       "16  MBA_ECG14046_data_23.arff  229900            124              9300   \n",
       "18  MBA_ECG14046_data_25.arff  229900            106              8241   \n",
       "22  MBA_ECG14046_data_29.arff  229900             63              4725   \n",
       "\n",
       "    avg_anomaly_len  percent_anomalies  \n",
       "1         81.606264           0.158669  \n",
       "4         84.721893           0.062279  \n",
       "14        76.094737           0.031444  \n",
       "16        75.000000           0.040452  \n",
       "18        77.745283           0.035846  \n",
       "22        75.000000           0.020552  "
      ]
     },
     "execution_count": 3,
     "metadata": {},
     "output_type": "execute_result"
    }
   ],
   "source": [
    "df = g.get_source_summary()\n",
    "df"
   ]
  },
  {
   "cell_type": "code",
   "execution_count": 4,
   "metadata": {},
   "outputs": [
    {
     "data": {
      "text/html": [
       "<div>\n",
       "<style scoped>\n",
       "    .dataframe tbody tr th:only-of-type {\n",
       "        vertical-align: middle;\n",
       "    }\n",
       "\n",
       "    .dataframe tbody tr th {\n",
       "        vertical-align: top;\n",
       "    }\n",
       "\n",
       "    .dataframe thead th {\n",
       "        text-align: right;\n",
       "    }\n",
       "</style>\n",
       "<table border=\"1\" class=\"dataframe\">\n",
       "  <thead>\n",
       "    <tr style=\"text-align: right;\">\n",
       "      <th></th>\n",
       "      <th>len</th>\n",
       "      <th>num_anomalies</th>\n",
       "      <th>total_anom_cover</th>\n",
       "      <th>avg_anomaly_len</th>\n",
       "      <th>percent_anomalies</th>\n",
       "    </tr>\n",
       "  </thead>\n",
       "  <tbody>\n",
       "    <tr>\n",
       "      <th>count</th>\n",
       "      <td>6.0</td>\n",
       "      <td>6.000000</td>\n",
       "      <td>6.000000</td>\n",
       "      <td>6.000000</td>\n",
       "      <td>6.000000</td>\n",
       "    </tr>\n",
       "    <tr>\n",
       "      <th>mean</th>\n",
       "      <td>229900.0</td>\n",
       "      <td>167.333333</td>\n",
       "      <td>13381.833333</td>\n",
       "      <td>78.361363</td>\n",
       "      <td>0.058207</td>\n",
       "    </tr>\n",
       "    <tr>\n",
       "      <th>std</th>\n",
       "      <td>0.0</td>\n",
       "      <td>141.402499</td>\n",
       "      <td>11749.016766</td>\n",
       "      <td>3.977446</td>\n",
       "      <td>0.051105</td>\n",
       "    </tr>\n",
       "    <tr>\n",
       "      <th>min</th>\n",
       "      <td>229900.0</td>\n",
       "      <td>63.000000</td>\n",
       "      <td>4725.000000</td>\n",
       "      <td>75.000000</td>\n",
       "      <td>0.020552</td>\n",
       "    </tr>\n",
       "    <tr>\n",
       "      <th>25%</th>\n",
       "      <td>229900.0</td>\n",
       "      <td>97.750000</td>\n",
       "      <td>7482.000000</td>\n",
       "      <td>75.273684</td>\n",
       "      <td>0.032545</td>\n",
       "    </tr>\n",
       "    <tr>\n",
       "      <th>50%</th>\n",
       "      <td>229900.0</td>\n",
       "      <td>115.000000</td>\n",
       "      <td>8770.500000</td>\n",
       "      <td>76.920010</td>\n",
       "      <td>0.038149</td>\n",
       "    </tr>\n",
       "    <tr>\n",
       "      <th>75%</th>\n",
       "      <td>229900.0</td>\n",
       "      <td>157.750000</td>\n",
       "      <td>13063.500000</td>\n",
       "      <td>80.641019</td>\n",
       "      <td>0.056823</td>\n",
       "    </tr>\n",
       "    <tr>\n",
       "      <th>max</th>\n",
       "      <td>229900.0</td>\n",
       "      <td>447.000000</td>\n",
       "      <td>36478.000000</td>\n",
       "      <td>84.721893</td>\n",
       "      <td>0.158669</td>\n",
       "    </tr>\n",
       "  </tbody>\n",
       "</table>\n",
       "</div>"
      ],
      "text/plain": [
       "            len  num_anomalies  total_anom_cover  avg_anomaly_len  \\\n",
       "count       6.0       6.000000          6.000000         6.000000   \n",
       "mean   229900.0     167.333333      13381.833333        78.361363   \n",
       "std         0.0     141.402499      11749.016766         3.977446   \n",
       "min    229900.0      63.000000       4725.000000        75.000000   \n",
       "25%    229900.0      97.750000       7482.000000        75.273684   \n",
       "50%    229900.0     115.000000       8770.500000        76.920010   \n",
       "75%    229900.0     157.750000      13063.500000        80.641019   \n",
       "max    229900.0     447.000000      36478.000000        84.721893   \n",
       "\n",
       "       percent_anomalies  \n",
       "count           6.000000  \n",
       "mean            0.058207  \n",
       "std             0.051105  \n",
       "min             0.020552  \n",
       "25%             0.032545  \n",
       "50%             0.038149  \n",
       "75%             0.056823  \n",
       "max             0.158669  "
      ]
     },
     "execution_count": 4,
     "metadata": {},
     "output_type": "execute_result"
    }
   ],
   "source": [
    "df.describe()"
   ]
  },
  {
   "cell_type": "code",
   "execution_count": 5,
   "metadata": {},
   "outputs": [
    {
     "data": {
      "text/html": [
       "<div>\n",
       "<style scoped>\n",
       "    .dataframe tbody tr th:only-of-type {\n",
       "        vertical-align: middle;\n",
       "    }\n",
       "\n",
       "    .dataframe tbody tr th {\n",
       "        vertical-align: top;\n",
       "    }\n",
       "\n",
       "    .dataframe thead th {\n",
       "        text-align: right;\n",
       "    }\n",
       "</style>\n",
       "<table border=\"1\" class=\"dataframe\">\n",
       "  <thead>\n",
       "    <tr style=\"text-align: right;\">\n",
       "      <th></th>\n",
       "      <th>0.1</th>\n",
       "      <th>0.2</th>\n",
       "      <th>0.3</th>\n",
       "      <th>0.4</th>\n",
       "      <th>0.5</th>\n",
       "      <th>0.6</th>\n",
       "      <th>0.7</th>\n",
       "    </tr>\n",
       "  </thead>\n",
       "  <tbody>\n",
       "    <tr>\n",
       "      <th>0</th>\n",
       "      <td>16.8</td>\n",
       "      <td>33.6</td>\n",
       "      <td>50.4</td>\n",
       "      <td>67.2</td>\n",
       "      <td>84.0</td>\n",
       "      <td>100.8</td>\n",
       "      <td>117.6</td>\n",
       "    </tr>\n",
       "  </tbody>\n",
       "</table>\n",
       "</div>"
      ],
      "text/plain": [
       "    0.1   0.2   0.3   0.4   0.5    0.6    0.7\n",
       "0  16.8  33.6  50.4  67.2  84.0  100.8  117.6"
      ]
     },
     "execution_count": 5,
     "metadata": {},
     "output_type": "execute_result"
    }
   ],
   "source": [
    "mean_num_anom = 168\n",
    "percent = np.arange(0.1,0.8,0.1)\n",
    "percent_anom = mean_num_anom * percent\n",
    "pd.DataFrame([percent_anom], columns=percent)"
   ]
  },
  {
   "cell_type": "code",
   "execution_count": 11,
   "metadata": {},
   "outputs": [],
   "source": [
    "length = 229900\n",
    "n_drift = 140\n",
    "p_drift = 0.39\n",
    "p_drift_before = 0.5\n",
    "sub_dir = 'n_drift/n_a60'\n",
    "dataset = 'ECG'"
   ]
  },
  {
   "cell_type": "code",
   "execution_count": 12,
   "metadata": {},
   "outputs": [
    {
     "name": "stdout",
     "output_type": "stream",
     "text": [
      "Generating splits...\n",
      "\tGetting partitions...\n",
      "\tGetting order of drifts coming before anomaly...\n",
      "\tGetting drift center positions...\n",
      "\tGetting stream file cuts...\n",
      "Done!\n",
      "Getting stream file cuts...\tDone!\n",
      "Creating intermediate files...\t"
     ]
    },
    {
     "name": "stdout",
     "output_type": "stream",
     "text": [
      "Done!\n",
      "Recursively generating MOA command...\tDone!\n",
      "Drift filename:  ECG_grad_p38_n100_b50\n",
      "Running terminal command...\t"
     ]
    },
    {
     "name": "stderr",
     "output_type": "stream",
     "text": [
      "\n",
      "{M}assive {O}nline {A}nalysis\n",
      "Version:  23.04 April 2023\n",
      "Copyright: (C) 2007-2023 University of Waikato, Hamilton, New Zealand\n",
      "Web: http://moa.cms.waikato.ac.nz/\n",
      "\n",
      "                                                                               \n",
      "Task completed in 2.21s (CPU time)\n",
      "\n"
     ]
    },
    {
     "name": "stdout",
     "output_type": "stream",
     "text": [
      "Stream written to ARFF file /Users/tammyz/Desktop/3H03/AnomalyDriftDetection/data/synthetic/n_drift/n_a60/ECG_grad_p38_n100_b50.arff\n",
      "Done!\n",
      "Generating drift labels...\tDone!\n"
     ]
    }
   ],
   "source": [
    "output_path, drift_label, streams, positions, seq_before, w_drift = g.run_generate_grad_stream_moa(\n",
    "    length, \n",
    "    p_drift, \n",
    "    n_drift,\n",
    "    p_drift_before, \n",
    "    sub_dir,\n",
    "    dataset\n",
    ")"
   ]
  },
  {
   "cell_type": "markdown",
   "metadata": {},
   "source": [
    "Tweak Existing Dataset"
   ]
  },
  {
   "cell_type": "code",
   "execution_count": 511,
   "metadata": {},
   "outputs": [],
   "source": [
    "from util.plot_stream import PlotStream\n",
    "from util.create_drift import find_anomaly_intervals\n",
    "\n",
    "source_dir = \"data/benchmark/ECG\" # directory for source streams\n",
    "drift_dir = \"data/synthetic/n_drift/n_a50\" # directory for drift stream\n",
    "filename = \"ECG_grad_p37_n98_b50\"\n",
    "d1 = PlotStream(source_dir, drift_dir, filename)"
   ]
  },
  {
   "cell_type": "code",
   "execution_count": 512,
   "metadata": {},
   "outputs": [],
   "source": [
    "g2 = GenMOAStream(source_dir, drift_dir, moa_path, selected_streams=d1.source_streams)\n",
    "positions = d1.positions[1:]\n",
    "streams = d1.streams\n",
    "seq_before = d1.seq_before\n",
    "w_drift = d1.w_drift"
   ]
  },
  {
   "cell_type": "code",
   "execution_count": 18,
   "metadata": {},
   "outputs": [
    {
     "data": {
      "text/plain": [
       "(100, 100, 139, 139)"
      ]
     },
     "execution_count": 18,
     "metadata": {},
     "output_type": "execute_result"
    }
   ],
   "source": [
    "len(positions), len(streams), len(seq_before), len(w_drift)"
   ]
  },
  {
   "cell_type": "code",
   "execution_count": 14,
   "metadata": {},
   "outputs": [],
   "source": [
    "positions = [0] + positions"
   ]
  },
  {
   "cell_type": "code",
   "execution_count": 53,
   "metadata": {},
   "outputs": [
    {
     "data": {
      "text/html": [
       "<div>\n",
       "<style scoped>\n",
       "    .dataframe tbody tr th:only-of-type {\n",
       "        vertical-align: middle;\n",
       "    }\n",
       "\n",
       "    .dataframe tbody tr th {\n",
       "        vertical-align: top;\n",
       "    }\n",
       "\n",
       "    .dataframe thead th {\n",
       "        text-align: right;\n",
       "    }\n",
       "</style>\n",
       "<table border=\"1\" class=\"dataframe\">\n",
       "  <thead>\n",
       "    <tr style=\"text-align: right;\">\n",
       "      <th></th>\n",
       "      <th>positions</th>\n",
       "      <th>streams (after)</th>\n",
       "      <th>seq_before</th>\n",
       "      <th>w_drift</th>\n",
       "    </tr>\n",
       "  </thead>\n",
       "  <tbody>\n",
       "    <tr>\n",
       "      <th>1</th>\n",
       "      <td>1714</td>\n",
       "      <td>0</td>\n",
       "      <td>True</td>\n",
       "      <td>71</td>\n",
       "    </tr>\n",
       "    <tr>\n",
       "      <th>2</th>\n",
       "      <td>4623</td>\n",
       "      <td>2</td>\n",
       "      <td>False</td>\n",
       "      <td>1201</td>\n",
       "    </tr>\n",
       "    <tr>\n",
       "      <th>3</th>\n",
       "      <td>5992</td>\n",
       "      <td>3</td>\n",
       "      <td>False</td>\n",
       "      <td>361</td>\n",
       "    </tr>\n",
       "    <tr>\n",
       "      <th>4</th>\n",
       "      <td>6591</td>\n",
       "      <td>0</td>\n",
       "      <td>True</td>\n",
       "      <td>639</td>\n",
       "    </tr>\n",
       "    <tr>\n",
       "      <th>5</th>\n",
       "      <td>8017</td>\n",
       "      <td>2</td>\n",
       "      <td>True</td>\n",
       "      <td>312</td>\n",
       "    </tr>\n",
       "    <tr>\n",
       "      <th>6</th>\n",
       "      <td>10024</td>\n",
       "      <td>4</td>\n",
       "      <td>True</td>\n",
       "      <td>508</td>\n",
       "    </tr>\n",
       "  </tbody>\n",
       "</table>\n",
       "</div>"
      ],
      "text/plain": [
       "   positions  streams (after)  seq_before  w_drift\n",
       "1       1714                0        True       71\n",
       "2       4623                2       False     1201\n",
       "3       5992                3       False      361\n",
       "4       6591                0        True      639\n",
       "5       8017                2        True      312\n",
       "6      10024                4        True      508"
      ]
     },
     "execution_count": 53,
     "metadata": {},
     "output_type": "execute_result"
    }
   ],
   "source": [
    "k = 4\n",
    "w = 3\n",
    "index = [i for i in range(k-w,k+w,1)]\n",
    "pd.DataFrame({'positions': positions[k-w:k+w], 'streams (after)': streams[k-w:k+w], 'seq_before': seq_before[k-w-1:k+w-1], 'w_drift': w_drift[k-w-1:k+w-1]}, index=index)"
   ]
  },
  {
   "cell_type": "code",
   "execution_count": 38,
   "metadata": {},
   "outputs": [
    {
     "data": {
      "text/plain": [
       "4"
      ]
     },
     "execution_count": 38,
     "metadata": {},
     "output_type": "execute_result"
    }
   ],
   "source": [
    "streams[60]"
   ]
  },
  {
   "cell_type": "code",
   "execution_count": 51,
   "metadata": {},
   "outputs": [],
   "source": [
    "positions[34] = 76500"
   ]
  },
  {
   "cell_type": "code",
   "execution_count": 46,
   "metadata": {},
   "outputs": [],
   "source": [
    "w_drift[53] = 250"
   ]
  },
  {
   "cell_type": "code",
   "execution_count": 31,
   "metadata": {},
   "outputs": [],
   "source": [
    "seq_before[84] = True"
   ]
  },
  {
   "cell_type": "code",
   "execution_count": 54,
   "metadata": {},
   "outputs": [],
   "source": [
    "# r_i = 3\n",
    "positions = positions[:r_i] + positions[r_i+1:]\n",
    "streams = streams[:r_i] + streams[r_i+1:]\n",
    "w_drift[r_i] = w_drift[r_i-1] + w_drift[r_i]\n",
    "w_drift = w_drift[:r_i-1] + w_drift[r_i:]\n",
    "seq_before = seq_before[:r_i-1] + seq_before[r_i:]"
   ]
  },
  {
   "cell_type": "code",
   "execution_count": 390,
   "metadata": {},
   "outputs": [
    {
     "data": {
      "text/html": [
       "<div>\n",
       "<style scoped>\n",
       "    .dataframe tbody tr th:only-of-type {\n",
       "        vertical-align: middle;\n",
       "    }\n",
       "\n",
       "    .dataframe tbody tr th {\n",
       "        vertical-align: top;\n",
       "    }\n",
       "\n",
       "    .dataframe thead th {\n",
       "        text-align: right;\n",
       "    }\n",
       "</style>\n",
       "<table border=\"1\" class=\"dataframe\">\n",
       "  <thead>\n",
       "    <tr style=\"text-align: right;\">\n",
       "      <th></th>\n",
       "      <th>positions</th>\n",
       "      <th>streams (after)</th>\n",
       "      <th>w_drift</th>\n",
       "    </tr>\n",
       "  </thead>\n",
       "  <tbody>\n",
       "    <tr>\n",
       "      <th>30</th>\n",
       "      <td>98398</td>\n",
       "      <td>5</td>\n",
       "      <td>344</td>\n",
       "    </tr>\n",
       "    <tr>\n",
       "      <th>31</th>\n",
       "      <td>108581</td>\n",
       "      <td>4</td>\n",
       "      <td>5097</td>\n",
       "    </tr>\n",
       "    <tr>\n",
       "      <th>32</th>\n",
       "      <td>110528</td>\n",
       "      <td>0</td>\n",
       "      <td>24</td>\n",
       "    </tr>\n",
       "    <tr>\n",
       "      <th>33</th>\n",
       "      <td>116615</td>\n",
       "      <td>4</td>\n",
       "      <td>1675</td>\n",
       "    </tr>\n",
       "  </tbody>\n",
       "</table>\n",
       "</div>"
      ],
      "text/plain": [
       "    positions  streams (after)  w_drift\n",
       "30      98398                5      344\n",
       "31     108581                4     5097\n",
       "32     110528                0       24\n",
       "33     116615                4     1675"
      ]
     },
     "execution_count": 390,
     "metadata": {},
     "output_type": "execute_result"
    }
   ],
   "source": [
    "index = [i for i in range(k-w,k+w,1)]\n",
    "pd.DataFrame({'positions': positions[k-w:k+w], 'streams (after)': streams[k-w:k+w], 'w_drift': w_drift[k-w-1:k+w-1]}, index=index)"
   ]
  },
  {
   "cell_type": "code",
   "execution_count": 55,
   "metadata": {},
   "outputs": [
    {
     "name": "stdout",
     "output_type": "stream",
     "text": [
      "Getting stream file cuts...\tDone!\n",
      "Creating intermediate files...\tDone!\n",
      "Recursively generating MOA command...\tDone!\n",
      "Drift filename:  ECG_grad_p37_n96_b52\n",
      "Running terminal command...\t"
     ]
    },
    {
     "name": "stderr",
     "output_type": "stream",
     "text": [
      "\n",
      "{M}assive {O}nline {A}nalysis\n",
      "Version:  23.04 April 2023\n",
      "Copyright: (C) 2007-2023 University of Waikato, Hamilton, New Zealand\n",
      "Web: http://moa.cms.waikato.ac.nz/\n",
      "\n",
      "                                                                               \n",
      "Task completed in 1.39s (CPU time)\n",
      "\n"
     ]
    },
    {
     "name": "stdout",
     "output_type": "stream",
     "text": [
      "Stream written to ARFF file /Users/tammyz/Desktop/3H03/AnomalyDriftDetection/data/synthetic/n_drift/n_a60/ECG_grad_p37_n96_b52.arff\n",
      "Done!\n",
      "Generating drift labels...\tDone!\n"
     ]
    }
   ],
   "source": [
    "output_path, drift_label =  g.construct_drift_stream(\n",
    "    positions[1:],\n",
    "    streams,\n",
    "    w_drift,\n",
    "    seq_before,\n",
    "    sub_dir='n_drift/n_a60',\n",
    "    length=229900,\n",
    "    dataset='ECG'\n",
    ")"
   ]
  }
 ],
 "metadata": {
  "kernelspec": {
   "display_name": "TSB",
   "language": "python",
   "name": "python3"
  },
  "language_info": {
   "codemirror_mode": {
    "name": "ipython",
    "version": 3
   },
   "file_extension": ".py",
   "mimetype": "text/x-python",
   "name": "python",
   "nbconvert_exporter": "python",
   "pygments_lexer": "ipython3",
   "version": "3.8.18"
  }
 },
 "nbformat": 4,
 "nbformat_minor": 2
}
