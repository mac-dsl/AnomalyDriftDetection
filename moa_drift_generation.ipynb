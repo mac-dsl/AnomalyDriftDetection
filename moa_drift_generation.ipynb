{
 "cells": [
  {
   "cell_type": "code",
   "execution_count": 1,
   "metadata": {},
   "outputs": [],
   "source": [
    "# To allow changes in .py files to be reflected in Notebook\n",
    "%load_ext autoreload\n",
    "%autoreload 2"
   ]
  },
  {
   "cell_type": "markdown",
   "metadata": {},
   "source": [
    "## Generate Drift Using MOA"
   ]
  },
  {
   "cell_type": "markdown",
   "metadata": {},
   "source": [
    "Randomly select streams to use for drift stream generation. Check summary statistics to determine value for n_drift during drift generation. "
   ]
  },
  {
   "cell_type": "code",
   "execution_count": 2,
   "metadata": {},
   "outputs": [
    {
     "ename": "ModuleNotFoundError",
     "evalue": "No module named 'arff'",
     "output_type": "error",
     "traceback": [
      "\u001b[0;31m---------------------------------------------------------------------------\u001b[0m",
      "\u001b[0;31mModuleNotFoundError\u001b[0m                       Traceback (most recent call last)",
      "Cell \u001b[0;32mIn[2], line 1\u001b[0m\n\u001b[0;32m----> 1\u001b[0m \u001b[39mfrom\u001b[39;00m \u001b[39mutil\u001b[39;00m\u001b[39m.\u001b[39;00m\u001b[39mdrift_generator\u001b[39;00m \u001b[39mimport\u001b[39;00m DriftGenerator\n\u001b[1;32m      2\u001b[0m \u001b[39mimport\u001b[39;00m \u001b[39mnumpy\u001b[39;00m \u001b[39mas\u001b[39;00m \u001b[39mnp\u001b[39;00m\n\u001b[1;32m      3\u001b[0m \u001b[39mimport\u001b[39;00m \u001b[39mpandas\u001b[39;00m \u001b[39mas\u001b[39;00m \u001b[39mpd\u001b[39;00m\n",
      "File \u001b[0;32m~/Desktop/CANGene/AnomalyDriftDetection/util/drift_generator.py:1\u001b[0m\n\u001b[0;32m----> 1\u001b[0m \u001b[39mfrom\u001b[39;00m \u001b[39mutil\u001b[39;00m\u001b[39m.\u001b[39;00m\u001b[39mcreate_drift\u001b[39;00m \u001b[39mimport\u001b[39;00m get_split_index, get_split_index_uniform, get_stream_cuts\n\u001b[1;32m      2\u001b[0m \u001b[39mfrom\u001b[39;00m \u001b[39mutil\u001b[39;00m\u001b[39m.\u001b[39;00m\u001b[39mstream\u001b[39;00m \u001b[39mimport\u001b[39;00m Stream\n\u001b[1;32m      3\u001b[0m \u001b[39mimport\u001b[39;00m \u001b[39mnumpy\u001b[39;00m \u001b[39mas\u001b[39;00m \u001b[39mnp\u001b[39;00m\n",
      "File \u001b[0;32m~/Desktop/CANGene/AnomalyDriftDetection/util/create_drift.py:1\u001b[0m\n\u001b[0;32m----> 1\u001b[0m \u001b[39mimport\u001b[39;00m \u001b[39marff\u001b[39;00m\n\u001b[1;32m      2\u001b[0m \u001b[39mimport\u001b[39;00m \u001b[39mnumpy\u001b[39;00m \u001b[39mas\u001b[39;00m \u001b[39mnp\u001b[39;00m\n\u001b[1;32m      3\u001b[0m \u001b[39mimport\u001b[39;00m \u001b[39mrandom\u001b[39;00m\n",
      "\u001b[0;31mModuleNotFoundError\u001b[0m: No module named 'arff'"
     ]
    }
   ],
   "source": [
    "from util.drift_generator import DriftGenerator\n",
    "import numpy as np\n",
    "import pandas as pd"
   ]
  },
  {
   "cell_type": "code",
   "execution_count": null,
   "metadata": {},
   "outputs": [
    {
     "ename": "TypeError",
     "evalue": "'generator' object is not subscriptable",
     "output_type": "error",
     "traceback": [
      "\u001b[0;31m---------------------------------------------------------------------------\u001b[0m",
      "\u001b[0;31mTypeError\u001b[0m                                 Traceback (most recent call last)",
      "Cell \u001b[0;32mIn[12], line 5\u001b[0m\n\u001b[1;32m      3\u001b[0m moa_path \u001b[39m=\u001b[39m \u001b[39m'\u001b[39m\u001b[39m/Users/akankshanehete/Desktop/moa-release-2023.04.0/lib\u001b[39m\u001b[39m'\u001b[39m\n\u001b[1;32m      4\u001b[0m num_streams \u001b[39m=\u001b[39m \u001b[39m6\u001b[39m\n\u001b[0;32m----> 5\u001b[0m g \u001b[39m=\u001b[39m DriftGenerator(source_dir, drift_dir, moa_path, num_streams)\n",
      "File \u001b[0;32m~/Desktop/CANGene/AnomalyDriftDetection/util/drift_generator.py:35\u001b[0m, in \u001b[0;36mDriftGenerator.__init__\u001b[0;34m(self, source_dir, drift_dir, moa_path, num_streams, selected_streams)\u001b[0m\n\u001b[1;32m     33\u001b[0m     \u001b[39mself\u001b[39m\u001b[39m.\u001b[39mselected_streams \u001b[39m=\u001b[39m []\n\u001b[1;32m     34\u001b[0m     \u001b[39mfor\u001b[39;00m s \u001b[39min\u001b[39;00m selected_streams:\n\u001b[0;32m---> 35\u001b[0m         \u001b[39mself\u001b[39m\u001b[39m.\u001b[39mselected_streams\u001b[39m.\u001b[39mappend(Stream(\u001b[39mf\u001b[39;49m\u001b[39m\"\u001b[39;49m\u001b[39m{\u001b[39;49;00m\u001b[39mself\u001b[39;49m\u001b[39m.\u001b[39;49msource_dir\u001b[39m}\u001b[39;49;00m\u001b[39m/\u001b[39;49m\u001b[39m{\u001b[39;49;00ms\u001b[39m}\u001b[39;49;00m\u001b[39m\"\u001b[39;49m))\n\u001b[1;32m     36\u001b[0m     \u001b[39mself\u001b[39m\u001b[39m.\u001b[39mmax_stream \u001b[39m=\u001b[39m \u001b[39mlen\u001b[39m(\u001b[39mself\u001b[39m\u001b[39m.\u001b[39mselected_streams) \u001b[39m-\u001b[39m \u001b[39m1\u001b[39m\n\u001b[1;32m     37\u001b[0m \u001b[39melse\u001b[39;00m:\n",
      "File \u001b[0;32m~/Desktop/CANGene/AnomalyDriftDetection/util/stream.py:37\u001b[0m, in \u001b[0;36mStream.__init__\u001b[0;34m(self, filepath)\u001b[0m\n\u001b[1;32m     35\u001b[0m     \u001b[39mself\u001b[39m\u001b[39m.\u001b[39mlength \u001b[39m=\u001b[39m \u001b[39mlen\u001b[39m(\u001b[39mself\u001b[39m\u001b[39m.\u001b[39manomaly_labels)\n\u001b[1;32m     36\u001b[0m \u001b[39melif\u001b[39;00m file_ext \u001b[39m==\u001b[39m \u001b[39m\"\u001b[39m\u001b[39marff\u001b[39m\u001b[39m\"\u001b[39m:\n\u001b[0;32m---> 37\u001b[0m     \u001b[39mself\u001b[39m\u001b[39m.\u001b[39mdata, \u001b[39mself\u001b[39m\u001b[39m.\u001b[39manomaly_labels \u001b[39m=\u001b[39m \u001b[39mself\u001b[39;49m\u001b[39m.\u001b[39;49m__get_arff_data_labels(filepath)\n\u001b[1;32m     38\u001b[0m     \u001b[39mself\u001b[39m\u001b[39m.\u001b[39mdrift_labels \u001b[39m=\u001b[39m \u001b[39mself\u001b[39m\u001b[39m.\u001b[39m__get_drift_labels()\n\u001b[1;32m     39\u001b[0m     \u001b[39mself\u001b[39m\u001b[39m.\u001b[39mlength \u001b[39m=\u001b[39m \u001b[39mlen\u001b[39m(\u001b[39mself\u001b[39m\u001b[39m.\u001b[39manomaly_labels)\n",
      "File \u001b[0;32m~/Desktop/CANGene/AnomalyDriftDetection/util/stream.py:186\u001b[0m, in \u001b[0;36mStream.__get_arff_data_labels\u001b[0;34m(self, filename)\u001b[0m\n\u001b[1;32m    182\u001b[0m \u001b[39m\u001b[39m\u001b[39m\"\"\"\u001b[39;00m\n\u001b[1;32m    183\u001b[0m \u001b[39mFind ndarray corresponding to data and labels from arff data\u001b[39;00m\n\u001b[1;32m    184\u001b[0m \u001b[39m\"\"\"\u001b[39;00m\n\u001b[1;32m    185\u001b[0m arff_content \u001b[39m=\u001b[39m arff\u001b[39m.\u001b[39mload(f\u001b[39m.\u001b[39mreplace(\u001b[39m'\u001b[39m\u001b[39m,\u001b[39m\u001b[39m\\n\u001b[39;00m\u001b[39m'\u001b[39m, \u001b[39m'\u001b[39m\u001b[39m\\n\u001b[39;00m\u001b[39m'\u001b[39m) \u001b[39mfor\u001b[39;00m f \u001b[39min\u001b[39;00m \u001b[39mopen\u001b[39m(filename, \u001b[39m'\u001b[39m\u001b[39mr\u001b[39m\u001b[39m'\u001b[39m))\n\u001b[0;32m--> 186\u001b[0m arff_data \u001b[39m=\u001b[39m arff_content[\u001b[39m'\u001b[39;49m\u001b[39mdata\u001b[39;49m\u001b[39m'\u001b[39;49m]\n\u001b[1;32m    187\u001b[0m data \u001b[39m=\u001b[39m np\u001b[39m.\u001b[39marray([i[:\u001b[39m1\u001b[39m] \u001b[39mfor\u001b[39;00m i \u001b[39min\u001b[39;00m arff_data])\n\u001b[1;32m    188\u001b[0m anomaly_labels \u001b[39m=\u001b[39m np\u001b[39m.\u001b[39marray([i[\u001b[39m-\u001b[39m\u001b[39m1\u001b[39m] \u001b[39mfor\u001b[39;00m i \u001b[39min\u001b[39;00m arff_data])\n",
      "\u001b[0;31mTypeError\u001b[0m: 'generator' object is not subscriptable"
     ]
    }
   ],
   "source": [
    "source_dir = '/Users/akankshanehete/Desktop/CANGene/AnomalyDriftDetection/data/benchmark/IOPS'\n",
    "drift_dir = '/Users/akankshanehete/Desktop/CANGene/AnomalyDriftDetection/data/synthetic'\n",
    "moa_path = '/Users/akankshanehete/Desktop/moa-release-2023.04.0/lib'\n",
    "num_streams = 6\n",
    "g = DriftGenerator(source_dir, drift_dir, moa_path, num_streams)"
   ]
  },
  {
   "cell_type": "code",
   "execution_count": null,
   "metadata": {},
   "outputs": [
    {
     "ename": "NameError",
     "evalue": "name 'g' is not defined",
     "output_type": "error",
     "traceback": [
      "\u001b[0;31m---------------------------------------------------------------------------\u001b[0m",
      "\u001b[0;31mNameError\u001b[0m                                 Traceback (most recent call last)",
      "Cell \u001b[0;32mIn[13], line 1\u001b[0m\n\u001b[0;32m----> 1\u001b[0m df \u001b[39m=\u001b[39m g\u001b[39m.\u001b[39mget_source_summary()\n\u001b[1;32m      2\u001b[0m df\n",
      "\u001b[0;31mNameError\u001b[0m: name 'g' is not defined"
     ]
    }
   ],
   "source": [
    "df = g.get_source_summary()\n",
    "df"
   ]
  },
  {
   "cell_type": "code",
   "execution_count": null,
   "metadata": {},
   "outputs": [
    {
     "data": {
      "text/html": [
       "<div>\n",
       "<style scoped>\n",
       "    .dataframe tbody tr th:only-of-type {\n",
       "        vertical-align: middle;\n",
       "    }\n",
       "\n",
       "    .dataframe tbody tr th {\n",
       "        vertical-align: top;\n",
       "    }\n",
       "\n",
       "    .dataframe thead th {\n",
       "        text-align: right;\n",
       "    }\n",
       "</style>\n",
       "<table border=\"1\" class=\"dataframe\">\n",
       "  <thead>\n",
       "    <tr style=\"text-align: right;\">\n",
       "      <th></th>\n",
       "      <th>len</th>\n",
       "      <th>num_anomalies</th>\n",
       "      <th>total_anom_cover</th>\n",
       "      <th>avg_anomaly_len</th>\n",
       "      <th>percent_anomalies</th>\n",
       "    </tr>\n",
       "  </thead>\n",
       "  <tbody>\n",
       "    <tr>\n",
       "      <th>count</th>\n",
       "      <td>6.000000</td>\n",
       "      <td>6.000000</td>\n",
       "      <td>6.000000</td>\n",
       "      <td>6.000000</td>\n",
       "      <td>6.000000</td>\n",
       "    </tr>\n",
       "    <tr>\n",
       "      <th>mean</th>\n",
       "      <td>89475.333333</td>\n",
       "      <td>46.666667</td>\n",
       "      <td>1854.166667</td>\n",
       "      <td>50.373737</td>\n",
       "      <td>0.019030</td>\n",
       "    </tr>\n",
       "    <tr>\n",
       "      <th>std</th>\n",
       "      <td>65231.651672</td>\n",
       "      <td>43.807153</td>\n",
       "      <td>1993.338849</td>\n",
       "      <td>68.981426</td>\n",
       "      <td>0.010365</td>\n",
       "    </tr>\n",
       "    <tr>\n",
       "      <th>min</th>\n",
       "      <td>7578.000000</td>\n",
       "      <td>10.000000</td>\n",
       "      <td>116.000000</td>\n",
       "      <td>11.600000</td>\n",
       "      <td>0.004706</td>\n",
       "    </tr>\n",
       "    <tr>\n",
       "      <th>25%</th>\n",
       "      <td>34307.000000</td>\n",
       "      <td>11.000000</td>\n",
       "      <td>270.750000</td>\n",
       "      <td>12.098729</td>\n",
       "      <td>0.014094</td>\n",
       "    </tr>\n",
       "    <tr>\n",
       "      <th>50%</th>\n",
       "      <td>111091.500000</td>\n",
       "      <td>36.500000</td>\n",
       "      <td>1480.500000</td>\n",
       "      <td>22.960294</td>\n",
       "      <td>0.018527</td>\n",
       "    </tr>\n",
       "    <tr>\n",
       "      <th>75%</th>\n",
       "      <td>139687.750000</td>\n",
       "      <td>65.750000</td>\n",
       "      <td>2543.250000</td>\n",
       "      <td>41.601366</td>\n",
       "      <td>0.022918</td>\n",
       "    </tr>\n",
       "    <tr>\n",
       "      <th>max</th>\n",
       "      <td>149159.000000</td>\n",
       "      <td>119.000000</td>\n",
       "      <td>5283.000000</td>\n",
       "      <td>188.428571</td>\n",
       "      <td>0.035421</td>\n",
       "    </tr>\n",
       "  </tbody>\n",
       "</table>\n",
       "</div>"
      ],
      "text/plain": [
       "                 len  num_anomalies  total_anom_cover  avg_anomaly_len  \\\n",
       "count       6.000000       6.000000          6.000000         6.000000   \n",
       "mean    89475.333333      46.666667       1854.166667        50.373737   \n",
       "std     65231.651672      43.807153       1993.338849        68.981426   \n",
       "min      7578.000000      10.000000        116.000000        11.600000   \n",
       "25%     34307.000000      11.000000        270.750000        12.098729   \n",
       "50%    111091.500000      36.500000       1480.500000        22.960294   \n",
       "75%    139687.750000      65.750000       2543.250000        41.601366   \n",
       "max    149159.000000     119.000000       5283.000000       188.428571   \n",
       "\n",
       "       percent_anomalies  \n",
       "count           6.000000  \n",
       "mean            0.019030  \n",
       "std             0.010365  \n",
       "min             0.004706  \n",
       "25%             0.014094  \n",
       "50%             0.018527  \n",
       "75%             0.022918  \n",
       "max             0.035421  "
      ]
     },
     "execution_count": 20,
     "metadata": {},
     "output_type": "execute_result"
    }
   ],
   "source": [
    "df.describe()"
   ]
  },
  {
   "cell_type": "code",
   "execution_count": null,
   "metadata": {},
   "outputs": [
    {
     "data": {
      "text/html": [
       "<div>\n",
       "<style scoped>\n",
       "    .dataframe tbody tr th:only-of-type {\n",
       "        vertical-align: middle;\n",
       "    }\n",
       "\n",
       "    .dataframe tbody tr th {\n",
       "        vertical-align: top;\n",
       "    }\n",
       "\n",
       "    .dataframe thead th {\n",
       "        text-align: right;\n",
       "    }\n",
       "</style>\n",
       "<table border=\"1\" class=\"dataframe\">\n",
       "  <thead>\n",
       "    <tr style=\"text-align: right;\">\n",
       "      <th></th>\n",
       "      <th>0.1</th>\n",
       "      <th>0.2</th>\n",
       "      <th>0.3</th>\n",
       "      <th>0.4</th>\n",
       "      <th>0.5</th>\n",
       "      <th>0.6</th>\n",
       "      <th>0.7</th>\n",
       "    </tr>\n",
       "  </thead>\n",
       "  <tbody>\n",
       "    <tr>\n",
       "      <th>0</th>\n",
       "      <td>4.3</td>\n",
       "      <td>8.6</td>\n",
       "      <td>12.9</td>\n",
       "      <td>17.2</td>\n",
       "      <td>21.5</td>\n",
       "      <td>25.8</td>\n",
       "      <td>30.1</td>\n",
       "    </tr>\n",
       "  </tbody>\n",
       "</table>\n",
       "</div>"
      ],
      "text/plain": [
       "   0.1  0.2   0.3   0.4   0.5   0.6   0.7\n",
       "0  4.3  8.6  12.9  17.2  21.5  25.8  30.1"
      ]
     },
     "execution_count": 21,
     "metadata": {},
     "output_type": "execute_result"
    }
   ],
   "source": [
    "mean_num_anom = 43\n",
    "percent = np.arange(0.1,0.8,0.1)\n",
    "percent_anom = mean_num_anom * percent\n",
    "pd.DataFrame([percent_anom], columns=percent)"
   ]
  },
  {
   "cell_type": "markdown",
   "metadata": {},
   "source": [
    "The following parameters can be assigned in the next cell to guide characteristics of the generated drift stream:\n",
    "\n",
    "- `length`: int, total length of new stream\n",
    "- `p_drift`: float, target percent of data points classified as drift\n",
    "- `n_drift`: int, target number of drift sequences\n",
    "- `p_before`: float, target percent of drift coming before anomaly\n",
    "- `sub_dir`: string, name of subdirectory to export drift stream\n",
    "- `dataset`: string, descriptor (name) or source dataset for identification\n",
    "- `mode`: int, indicator for drift assembly method, options {0,1}, default 0\n",
    "    - Mode 0: variable drift widths and positions\n",
    "    - Mode 1: uniform drift widths and positions (helpful for high p_drift)\n",
    "- Returns `output_path, drift_label, positions, streams, seq_before`\n",
    "\n",
    "Note: Make sure that `sub_dir` exists in data/synthetic prior to generating the code.\n",
    "\n",
    "Note: If you encounter trouble with generating large percentage drift, you can use `mode=1`."
   ]
  },
  {
   "cell_type": "code",
   "execution_count": null,
   "metadata": {},
   "outputs": [],
   "source": [
    "length = 110633\n",
    "n_drift = 10\n",
    "p_drift = 0.35\n",
    "p_drift_before = 0.5\n",
    "sub_dir = 'test'\n",
    "dataset = 'IOPS'"
   ]
  },
  {
   "cell_type": "code",
   "execution_count": null,
   "metadata": {},
   "outputs": [
    {
     "name": "stdout",
     "output_type": "stream",
     "text": [
      "Generating splits...\n",
      "Done!\n",
      "Getting stream file cuts...\tDone!\n",
      "Creating intermediate files...\tDone!\n",
      "Recursively generating MOA command...\tDone!\n",
      "Drift filename:  IOPS_grad_p24_n7_b57\n",
      "Running terminal command...\t"
     ]
    },
    {
     "name": "stderr",
     "output_type": "stream",
     "text": [
      "\n",
      "{M}assive {O}nline {A}nalysis\n",
      "Version:  23.04 April 2023\n",
      "Copyright: (C) 2007-2023 University of Waikato, Hamilton, New Zealand\n",
      "Web: http://moa.cms.waikato.ac.nz/\n",
      "\n",
      "                                                                               \n",
      "Task completed in 0.45s (CPU time)\n",
      "\n"
     ]
    },
    {
     "name": "stdout",
     "output_type": "stream",
     "text": [
      "Stream written to ARFF file /home/zengt5/AnomalyDriftDetection/data/synthetic/test/IOPS_grad_p24_n7_b57.arff\n",
      "Done!\n",
      "Generating drift labels...\tDone!\n"
     ]
    }
   ],
   "source": [
    "output_path, drift_label, streams, positions, seq_before, w_drift = g.run_generate_grad_stream_moa(\n",
    "    length, \n",
    "    p_drift, \n",
    "    n_drift,\n",
    "    p_drift_before, \n",
    "    sub_dir,\n",
    "    dataset,\n",
    "    mode=0 # 0 for variable drift widths and positions, 1 for uniform\n",
    ")"
   ]
  },
  {
   "cell_type": "markdown",
   "metadata": {},
   "source": [
    "Check out [`view_drift_generation.ipynb`](../view_drift.ipynb) for plotting methods can be used to view generated streams"
   ]
  },
  {
   "cell_type": "markdown",
   "metadata": {},
   "source": [
    "## Update an Existing Data Stream"
   ]
  },
  {
   "cell_type": "markdown",
   "metadata": {},
   "source": [
    "#### Read data and set up object to generate new data stream"
   ]
  },
  {
   "cell_type": "code",
   "execution_count": null,
   "metadata": {},
   "outputs": [],
   "source": [
    "# Read existing data file\n",
    "from util.plot_stream import PlotStream\n",
    "\n",
    "source_dir = \"data/benchmark/IOPS\" # directory for source streams\n",
    "drift_dir = \"data/synthetic/n_drift/n_a50\" # directory for drift stream\n",
    "filename = \"IOPS_grad_p34_n22_b50_bu\"\n",
    "d1 = PlotStream(source_dir, drift_dir, filename)"
   ]
  },
  {
   "cell_type": "code",
   "execution_count": null,
   "metadata": {},
   "outputs": [],
   "source": [
    "# Create object to generate new data stream\n",
    "g2 = GenMOAStream(source_dir, drift_dir, moa_path, selected_streams=d1.source_streams)\n",
    "positions = d1.positions # this variable returns positions from above with [0] appended to the front\n",
    "streams = d1.streams\n",
    "seq_before = d1.seq_before\n",
    "w_drift = d1.w_drift"
   ]
  },
  {
   "cell_type": "markdown",
   "metadata": {},
   "source": [
    "#### The following values can be modified individually to make changes to the data stream"
   ]
  },
  {
   "cell_type": "code",
   "execution_count": null,
   "metadata": {},
   "outputs": [
    {
     "data": {
      "text/html": [
       "<div>\n",
       "<style scoped>\n",
       "    .dataframe tbody tr th:only-of-type {\n",
       "        vertical-align: middle;\n",
       "    }\n",
       "\n",
       "    .dataframe tbody tr th {\n",
       "        vertical-align: top;\n",
       "    }\n",
       "\n",
       "    .dataframe thead th {\n",
       "        text-align: right;\n",
       "    }\n",
       "</style>\n",
       "<table border=\"1\" class=\"dataframe\">\n",
       "  <thead>\n",
       "    <tr style=\"text-align: right;\">\n",
       "      <th></th>\n",
       "      <th>positions</th>\n",
       "      <th>streams (after)</th>\n",
       "      <th>seq_before</th>\n",
       "      <th>w_drift</th>\n",
       "    </tr>\n",
       "  </thead>\n",
       "  <tbody>\n",
       "    <tr>\n",
       "      <th>1</th>\n",
       "      <td>4961</td>\n",
       "      <td>0</td>\n",
       "      <td>False</td>\n",
       "      <td>1154</td>\n",
       "    </tr>\n",
       "    <tr>\n",
       "      <th>2</th>\n",
       "      <td>10945</td>\n",
       "      <td>3</td>\n",
       "      <td>False</td>\n",
       "      <td>987</td>\n",
       "    </tr>\n",
       "    <tr>\n",
       "      <th>3</th>\n",
       "      <td>16412</td>\n",
       "      <td>2</td>\n",
       "      <td>False</td>\n",
       "      <td>2066</td>\n",
       "    </tr>\n",
       "    <tr>\n",
       "      <th>4</th>\n",
       "      <td>21576</td>\n",
       "      <td>3</td>\n",
       "      <td>False</td>\n",
       "      <td>455</td>\n",
       "    </tr>\n",
       "    <tr>\n",
       "      <th>5</th>\n",
       "      <td>30348</td>\n",
       "      <td>4</td>\n",
       "      <td>True</td>\n",
       "      <td>1916</td>\n",
       "    </tr>\n",
       "    <tr>\n",
       "      <th>6</th>\n",
       "      <td>36282</td>\n",
       "      <td>3</td>\n",
       "      <td>False</td>\n",
       "      <td>1461</td>\n",
       "    </tr>\n",
       "  </tbody>\n",
       "</table>\n",
       "</div>"
      ],
      "text/plain": [
       "   positions  streams (after)  seq_before  w_drift\n",
       "1       4961                0       False     1154\n",
       "2      10945                3       False      987\n",
       "3      16412                2       False     2066\n",
       "4      21576                3       False      455\n",
       "5      30348                4        True     1916\n",
       "6      36282                3       False     1461"
      ]
     },
     "execution_count": 52,
     "metadata": {},
     "output_type": "execute_result"
    }
   ],
   "source": [
    "# View index values\n",
    "k = 4\n",
    "w = 3\n",
    "index = [i for i in range(k-w,k+w,1)]\n",
    "pd.DataFrame({'positions': positions[k-w:k+w], 'streams (after)': streams[k-w:k+w], 'seq_before': seq_before[k-w-1:k+w-1], 'w_drift': w_drift[k-w-1:k+w-1]}, index=index)"
   ]
  },
  {
   "cell_type": "code",
   "execution_count": null,
   "metadata": {},
   "outputs": [],
   "source": [
    "streams[60]"
   ]
  },
  {
   "cell_type": "code",
   "execution_count": null,
   "metadata": {},
   "outputs": [],
   "source": [
    "positions[2] -= 1200"
   ]
  },
  {
   "cell_type": "code",
   "execution_count": null,
   "metadata": {},
   "outputs": [],
   "source": [
    "w_drift[53] = 250"
   ]
  },
  {
   "cell_type": "code",
   "execution_count": null,
   "metadata": {},
   "outputs": [],
   "source": [
    "seq_before[84] = True"
   ]
  },
  {
   "cell_type": "code",
   "execution_count": null,
   "metadata": {},
   "outputs": [],
   "source": [
    "# Remove a drift by selecting the index to remove (r_i)\n",
    "r_i = 3\n",
    "positions = positions[:r_i] + positions[r_i+1:]\n",
    "streams = streams[:r_i] + streams[r_i+1:]\n",
    "w_drift[r_i] = w_drift[r_i-1] + w_drift[r_i]\n",
    "w_drift = w_drift[:r_i-1] + w_drift[r_i:]\n",
    "seq_before = seq_before[:r_i-1] + seq_before[r_i:]"
   ]
  },
  {
   "cell_type": "code",
   "execution_count": null,
   "metadata": {},
   "outputs": [
    {
     "data": {
      "text/html": [
       "<div>\n",
       "<style scoped>\n",
       "    .dataframe tbody tr th:only-of-type {\n",
       "        vertical-align: middle;\n",
       "    }\n",
       "\n",
       "    .dataframe tbody tr th {\n",
       "        vertical-align: top;\n",
       "    }\n",
       "\n",
       "    .dataframe thead th {\n",
       "        text-align: right;\n",
       "    }\n",
       "</style>\n",
       "<table border=\"1\" class=\"dataframe\">\n",
       "  <thead>\n",
       "    <tr style=\"text-align: right;\">\n",
       "      <th></th>\n",
       "      <th>positions</th>\n",
       "      <th>streams (after)</th>\n",
       "      <th>w_drift</th>\n",
       "    </tr>\n",
       "  </thead>\n",
       "  <tbody>\n",
       "    <tr>\n",
       "      <th>30</th>\n",
       "      <td>98398</td>\n",
       "      <td>5</td>\n",
       "      <td>344</td>\n",
       "    </tr>\n",
       "    <tr>\n",
       "      <th>31</th>\n",
       "      <td>108581</td>\n",
       "      <td>4</td>\n",
       "      <td>5097</td>\n",
       "    </tr>\n",
       "    <tr>\n",
       "      <th>32</th>\n",
       "      <td>110528</td>\n",
       "      <td>0</td>\n",
       "      <td>24</td>\n",
       "    </tr>\n",
       "    <tr>\n",
       "      <th>33</th>\n",
       "      <td>116615</td>\n",
       "      <td>4</td>\n",
       "      <td>1675</td>\n",
       "    </tr>\n",
       "  </tbody>\n",
       "</table>\n",
       "</div>"
      ],
      "text/plain": [
       "    positions  streams (after)  w_drift\n",
       "30      98398                5      344\n",
       "31     108581                4     5097\n",
       "32     110528                0       24\n",
       "33     116615                4     1675"
      ]
     },
     "execution_count": 390,
     "metadata": {},
     "output_type": "execute_result"
    }
   ],
   "source": [
    "index = [i for i in range(k-w,k+w,1)]\n",
    "pd.DataFrame({'positions': positions[k-w:k+w], 'streams (after)': streams[k-w:k+w], 'w_drift': w_drift[k-w-1:k+w-1]}, index=index)"
   ]
  },
  {
   "cell_type": "markdown",
   "metadata": {},
   "source": [
    "#### Generate new data stream based on updated drift characteristics"
   ]
  },
  {
   "cell_type": "code",
   "execution_count": null,
   "metadata": {},
   "outputs": [
    {
     "name": "stdout",
     "output_type": "stream",
     "text": [
      "Getting stream file cuts...\tDone!\n",
      "Creating intermediate files...\t"
     ]
    },
    {
     "name": "stdout",
     "output_type": "stream",
     "text": [
      "Done!\n",
      "Recursively generating MOA command...\tDone!\n",
      "Drift filename:  IOPS_grad_p35_n21_b50\n",
      "Running terminal command...\t"
     ]
    },
    {
     "name": "stderr",
     "output_type": "stream",
     "text": [
      "\n",
      "{M}assive {O}nline {A}nalysis\n",
      "Version:  23.04 April 2023\n",
      "Copyright: (C) 2007-2023 University of Waikato, Hamilton, New Zealand\n",
      "Web: http://moa.cms.waikato.ac.nz/\n",
      "\n",
      "                                                                               \n",
      "Task completed in 0.51s (CPU time)\n",
      "\n"
     ]
    },
    {
     "name": "stdout",
     "output_type": "stream",
     "text": [
      "Stream written to ARFF file /home/zengt5/AnomalyDriftDetection/data/synthetic/n_drift/n_a50/IOPS_grad_p35_n21_b50.arff\n",
      "Done!\n",
      "Generating drift labels...\tDone!\n"
     ]
    }
   ],
   "source": [
    "output_path, drift_label =  g2.assemble_drift_stream(\n",
    "    positions[1:-1],\n",
    "    streams,\n",
    "    w_drift,\n",
    "    seq_before,\n",
    "    sub_dir='n_drift/n_a50',\n",
    "    length=d1.length,\n",
    "    dataset='IOPS'\n",
    ")"
   ]
  }
 ],
 "metadata": {
  "kernelspec": {
   "display_name": "TSB",
   "language": "python",
   "name": "python3"
  },
  "language_info": {
   "codemirror_mode": {
    "name": "ipython",
    "version": 3
   },
   "file_extension": ".py",
   "mimetype": "text/x-python",
   "name": "python",
   "nbconvert_exporter": "python",
   "pygments_lexer": "ipython3",
   "version": "3.8.19"
  }
 },
 "nbformat": 4,
 "nbformat_minor": 2
}
