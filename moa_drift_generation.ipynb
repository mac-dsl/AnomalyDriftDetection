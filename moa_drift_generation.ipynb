{
 "cells": [
  {
   "cell_type": "code",
   "execution_count": 1,
   "metadata": {},
   "outputs": [],
   "source": [
    "# import librarie\n",
    "from util.generate_moa_stream import run_generate_grad_stream_moa, plot_anomaly, plot_stream_drift\n",
    "from util.combine_stream import get_arff_data_labels, find_anomaly_intervals\n",
    "import matplotlib.pyplot as plt\n",
    "import numpy as np\n",
    "import os\n",
    "import pandas as pd\n",
    "import sys"
   ]
  },
  {
   "cell_type": "code",
   "execution_count": 2,
   "metadata": {},
   "outputs": [],
   "source": [
    "# declare constant values\n",
    "MOA_FILEPATH = '/Users/tammyz/Desktop/3H03/moa-release-2023.04.0/lib' # path to MOA lib directory\n",
    "SOURCE_DIR = \"data/benchmark/ECG\" # directory for dataset of interest\n",
    "OUTPUT_DIR = \"data/synthetic\" # directory for storing generated ARFF files"
   ]
  },
  {
   "cell_type": "code",
   "execution_count": 3,
   "metadata": {},
   "outputs": [
    {
     "data": {
      "text/html": [
       "<div>\n",
       "<style scoped>\n",
       "    .dataframe tbody tr th:only-of-type {\n",
       "        vertical-align: middle;\n",
       "    }\n",
       "\n",
       "    .dataframe tbody tr th {\n",
       "        vertical-align: top;\n",
       "    }\n",
       "\n",
       "    .dataframe thead th {\n",
       "        text-align: right;\n",
       "    }\n",
       "</style>\n",
       "<table border=\"1\" class=\"dataframe\">\n",
       "  <thead>\n",
       "    <tr style=\"text-align: right;\">\n",
       "      <th></th>\n",
       "      <th>filename</th>\n",
       "      <th>len</th>\n",
       "      <th>num_anomalies</th>\n",
       "      <th>total_anom_cover</th>\n",
       "      <th>avg_anomaly_len</th>\n",
       "      <th>percent_anomalies</th>\n",
       "    </tr>\n",
       "  </thead>\n",
       "  <tbody>\n",
       "    <tr>\n",
       "      <th>2</th>\n",
       "      <td>MBA_ECG14046_data_10.arff</td>\n",
       "      <td>229900</td>\n",
       "      <td>107</td>\n",
       "      <td>8130</td>\n",
       "      <td>75.981308</td>\n",
       "      <td>0.035363</td>\n",
       "    </tr>\n",
       "    <tr>\n",
       "      <th>3</th>\n",
       "      <td>MBA_ECG14046_data_11.arff</td>\n",
       "      <td>229900</td>\n",
       "      <td>165</td>\n",
       "      <td>12746</td>\n",
       "      <td>77.248485</td>\n",
       "      <td>0.055441</td>\n",
       "    </tr>\n",
       "    <tr>\n",
       "      <th>4</th>\n",
       "      <td>MBA_ECG14046_data_12.arff</td>\n",
       "      <td>229900</td>\n",
       "      <td>169</td>\n",
       "      <td>14318</td>\n",
       "      <td>84.721893</td>\n",
       "      <td>0.062279</td>\n",
       "    </tr>\n",
       "    <tr>\n",
       "      <th>5</th>\n",
       "      <td>MBA_ECG14046_data_13.arff</td>\n",
       "      <td>229900</td>\n",
       "      <td>105</td>\n",
       "      <td>8265</td>\n",
       "      <td>78.714286</td>\n",
       "      <td>0.035950</td>\n",
       "    </tr>\n",
       "    <tr>\n",
       "      <th>6</th>\n",
       "      <td>MBA_ECG14046_data_14.arff</td>\n",
       "      <td>229900</td>\n",
       "      <td>128</td>\n",
       "      <td>10159</td>\n",
       "      <td>79.367188</td>\n",
       "      <td>0.044189</td>\n",
       "    </tr>\n",
       "    <tr>\n",
       "      <th>7</th>\n",
       "      <td>MBA_ECG14046_data_15.arff</td>\n",
       "      <td>229900</td>\n",
       "      <td>170</td>\n",
       "      <td>13066</td>\n",
       "      <td>76.858824</td>\n",
       "      <td>0.056833</td>\n",
       "    </tr>\n",
       "  </tbody>\n",
       "</table>\n",
       "</div>"
      ],
      "text/plain": [
       "                    filename     len  num_anomalies  total_anom_cover  \\\n",
       "2  MBA_ECG14046_data_10.arff  229900            107              8130   \n",
       "3  MBA_ECG14046_data_11.arff  229900            165             12746   \n",
       "4  MBA_ECG14046_data_12.arff  229900            169             14318   \n",
       "5  MBA_ECG14046_data_13.arff  229900            105              8265   \n",
       "6  MBA_ECG14046_data_14.arff  229900            128             10159   \n",
       "7  MBA_ECG14046_data_15.arff  229900            170             13066   \n",
       "\n",
       "   avg_anomaly_len  percent_anomalies  \n",
       "2        75.981308           0.035363  \n",
       "3        77.248485           0.055441  \n",
       "4        84.721893           0.062279  \n",
       "5        78.714286           0.035950  \n",
       "6        79.367188           0.044189  \n",
       "7        76.858824           0.056833  "
      ]
     },
     "execution_count": 3,
     "metadata": {},
     "output_type": "execute_result"
    }
   ],
   "source": [
    "# list files and select 6 for combining\n",
    "files = os.listdir(SOURCE_DIR)\n",
    "files.sort()\n",
    "selected_streams = files[2:8]\n",
    "\n",
    "# find and store the anomaly intervals for all files\n",
    "anom_ints = []\n",
    "for s in selected_streams:\n",
    "    _, y = get_arff_data_labels(os.path.join(SOURCE_DIR,s))\n",
    "    anom_ints.append(find_anomaly_intervals(y))\n",
    "\n",
    "# print details of selected streams\n",
    "df = pd.read_csv(f'{SOURCE_DIR}/description.csv')\n",
    "df.loc[df.filename.apply(lambda x: x in selected_streams)]"
   ]
  },
  {
   "cell_type": "code",
   "execution_count": 10,
   "metadata": {},
   "outputs": [],
   "source": [
    "# define parameters to generate drift\n",
    "length = 229900\n",
    "n_drift = 33\n",
    "p_drift = 0.40\n",
    "p_drift_after = 0.5\n",
    "max_stream = len(selected_streams)-1\n",
    "anom_ints = anom_ints\n",
    "trial_name = 'p_drift'"
   ]
  },
  {
   "cell_type": "code",
   "execution_count": 11,
   "metadata": {},
   "outputs": [
    {
     "name": "stdout",
     "output_type": "stream",
     "text": [
      "Generating splits...\n",
      "Getting partitions...\n",
      "Getting order of drifts coming after anomaly...\n",
      "Getting drift center positions...\n",
      "Getting stream file cuts...\n",
      "Creating intermediate files...\n",
      "Recursively generating MOA command...\n",
      "Drift filename:  ECG_grad_p25_n22_a54\n",
      "Streams: [0, 1, 2, 5, 2, 1, 5, 1, 3, 0, 5, 1, 2, 4, 2, 4, 2, 0, 5, 2, 5, 0, 3]\n",
      "Positions: [24855, 38097, 46615, 55440, 63468, 77781, 84927, 90910, 102510, 113770, 118175, 126424, 136280, 138518, 150268, 161921, 172258, 176108, 189719, 198067, 215005, 225254]\n",
      "w_drift: [3775, 2629, 4289, 1330, 466, 966, 4125, 664, 2649, 1974, 1401, 4579, 1896, 2803, 4146, 4577, 2769, 105, 2701, 783, 4215, 4687]\n",
      "Running terminal command...\n"
     ]
    },
    {
     "name": "stderr",
     "output_type": "stream",
     "text": [
      "\n",
      "{M}assive {O}nline {A}nalysis\n",
      "Version:  23.04 April 2023\n",
      "Copyright: (C) 2007-2023 University of Waikato, Hamilton, New Zealand\n",
      "Web: http://moa.cms.waikato.ac.nz/\n",
      "\n",
      "                                                                               \n",
      "Task completed in 0.97s (CPU time)\n",
      "\n"
     ]
    },
    {
     "name": "stdout",
     "output_type": "stream",
     "text": [
      "Stream written to ARFF file /Users/tammyz/Desktop/3H03/AnomalyDriftDetection/data/synthetic/p_drift/ECG_grad_p25_n22_a54.arff\n",
      "Generating drift labels...\n",
      "value:  [-111] | index:  12\n",
      "w_drift: [4579, 1896, 2803]\n",
      "positions: [126424, 136280, 138518]\n"
     ]
    }
   ],
   "source": [
    "output_path, drift_label, streams, positions, seq_drift_after = run_generate_grad_stream_moa(\n",
    "    selected_streams,\n",
    "    p_drift, \n",
    "    n_drift, \n",
    "    length, \n",
    "    p_drift_after, \n",
    "    max_stream, \n",
    "    anom_ints,\n",
    "    trial_name\n",
    ")"
   ]
  }
 ],
 "metadata": {
  "kernelspec": {
   "display_name": "TSB",
   "language": "python",
   "name": "python3"
  },
  "language_info": {
   "codemirror_mode": {
    "name": "ipython",
    "version": 3
   },
   "file_extension": ".py",
   "mimetype": "text/x-python",
   "name": "python",
   "nbconvert_exporter": "python",
   "pygments_lexer": "ipython3",
   "version": "3.8.18"
  }
 },
 "nbformat": 4,
 "nbformat_minor": 2
}
